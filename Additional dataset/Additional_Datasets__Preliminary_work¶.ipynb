{
 "cells": [
  {
   "cell_type": "markdown",
   "id": "e6e49016-ac46-423d-9dbe-73efd2b26ad4",
   "metadata": {},
   "source": [
    "# Additional Datasets -- Preliminary work"
   ]
  },
  {
   "cell_type": "code",
   "execution_count": 105,
   "id": "45f654ca-add3-4d53-9590-5d291eb1173a",
   "metadata": {},
   "outputs": [],
   "source": [
    "import numpy as np\n",
    "import pandas as pd"
   ]
  },
  {
   "cell_type": "markdown",
   "id": "6c00e8ef-007e-4030-a412-ad684283b5fd",
   "metadata": {},
   "source": [
    "In a nutshell: external datasets:\n",
    "- major VG companies revenues : to sum to have an idea of the hole market, then applying correlations [statista]\n",
    "- Music labels name to compare with music channels owners [wikipedia\n",
    "- Revenues of alphabets from adsense in youtube (mult youtube proportion + alphabet revenues with ads) [statista]"
   ]
  },
  {
   "cell_type": "markdown",
   "id": "f381af97-401a-4fca-a34a-ff352202930f",
   "metadata": {},
   "source": [
    "Good explanation on how to make money out of youtube:\n",
    "https://isthischannelmonetized.com/guides/make-money-on-youtube-without-monetization/\n",
    "\n",
    "0. AdSense\n",
    "1. Affiliate Marketing\n",
    "2. Securing Sponsorships\n",
    "3. Creating and Selling Merchandise\n",
    "4. Leveraging Crowdfunding\n",
    "5. From YouTube to Online Courses\n",
    "6. E-books and Consulting\n",
    "7. Right Fan Support Platform"
   ]
  },
  {
   "cell_type": "markdown",
   "id": "cbe42161-2cd0-4b8b-aad7-5abf903c7ad3",
   "metadata": {},
   "source": [
    "Youtube a été racheté par google en 2006"
   ]
  },
  {
   "cell_type": "markdown",
   "id": "220c38be-c045-4ddc-90c1-81c2e2656fee",
   "metadata": {
    "jp-MarkdownHeadingCollapsed": true
   },
   "source": [
    "Indian entertainment, content for children, and music dominate the YouTube charts. "
   ]
  },
  {
   "cell_type": "markdown",
   "id": "a6b2ab64-4601-41b3-83d7-04701cf6a75f",
   "metadata": {},
   "source": [
    "Here's a quick timeline of features introduced in YouTube Ads from 2010 onwards:\n",
    "\n",
    "2010: YouTube introduces TrueView skippable ads and changes the game. From ads that feel like ads, brands start creating digital video ads that feel like entertainment. \\\n",
    "2015: YouTube introduces Masthead, a type of ads that plays for 24 hours and gets displayed on the top of YouTube’s homepage. \\\n",
    "2016: YouTube introduces 6-second bumper ads, unskippable ads that play before video content begins. \\\n",
    "2018: Outsteam Ads are launched, as a type of ad format that can be displayed on any external website. \\\n",
    "2020: YouTube Shorts is launched as a response to TikTok, allowing creators to upload organic short-form videos. While Shorts doesn't allow for ads yet, the plan is to introduce ads between videos starting with 2023. \\\n",
    "\n",
    "https://yugomedia.co/history-of-youtube-advertising/ \n"
   ]
  },
  {
   "cell_type": "markdown",
   "id": "d42af941-4084-47c7-bbfc-e260925cb42f",
   "metadata": {},
   "source": [
    "### Research question 1: How has the frequency and consistency of content creation evolved over time across different channel categories?"
   ]
  },
  {
   "cell_type": "markdown",
   "id": "34b2ea0e-c5c7-41a5-bd6a-88713fe3d25a",
   "metadata": {},
   "source": [
    "Categories representativeness in % (df_ch_f['category_cc'].value_counts()/df_ch_f['category_cc'].value_counts().sum()*100)\n",
    "\n",
    "|Category|Percentage|Comment|Dataset idea|\n",
    "|:---|:---|:----------------|:---|\n",
    "|Music|17.8%| Youtube Music, launched in November 12, 2015 |https://en.wikipedia.org/wiki/Lists_of_record_labels + VEVO|\n",
    "|Entertainment|16.8%|Youtube premium, November 14, 2014||\n",
    "|Gaming|14.8%||Look at major VG developers revenues|\n",
    "|People & Blogs|13.5%|||\n",
    "|Howto & Style|8.7%|||\n",
    "|Education|5.7%|||\n",
    "|Film and Animation|5.0%|||\n",
    "|Sports|3.8%|||\n",
    "|Science & Technology|3.6%|||\n",
    "|Comedy|2.8%|||\n",
    "|Autos & Vehicles|2.7%|||\n",
    "|News & Politics|1.7%|||\n",
    "|Travel & Events|1.5%|||\n",
    "|Pets & Animals|0.9%|||\n",
    "|Nonprofits & Activism|0.7%|||"
   ]
  },
  {
   "cell_type": "markdown",
   "id": "de1029f4-03d6-4ead-bcbf-919085ac2b41",
   "metadata": {},
   "source": [
    "What I have noticed: strange split between Pople & Blogs, for example Lady gaga is in People & Blogs and not in Music. Same for DJ Khaled, Megan Trainor etc => might be complex to treat music celebrities "
   ]
  },
  {
   "cell_type": "markdown",
   "id": "819c5f51-87d1-440f-ac6f-2343e6e6bd1e",
   "metadata": {},
   "source": [
    "For the case of the gaming category, we could apply datasets regarding how e-sports has developped, and how videogames business has grown as additional information. For content such as sport, we could align information with increasing/decay of TV boradcats and physical intendance."
   ]
  },
  {
   "cell_type": "markdown",
   "id": "bbe2db47-48ae-4595-bc9c-0e6b754dcbaf",
   "metadata": {},
   "source": [
    "Twitch was launched in 2011"
   ]
  },
  {
   "cell_type": "markdown",
   "id": "e0d4207b-0c85-49df-bbc2-9f6b41015e58",
   "metadata": {},
   "source": [
    "==> Added Datasets: \n",
    "- major VG companies revenues : to sum to have an idea of the hole market, then applying correlations [statista]\n",
    "- Music labels name to compare with music channels owners [wikipedia]"
   ]
  },
  {
   "cell_type": "markdown",
   "id": "979987b0-d0ae-41c1-ae9b-21938f6643fb",
   "metadata": {},
   "source": [
    "### Research question 2: How has creator content strategy evolved to reflect professional monetization approaches?"
   ]
  },
  {
   "cell_type": "markdown",
   "id": "de4c0efa-bcbe-407f-8b06-4affb1539849",
   "metadata": {},
   "source": [
    "Where are located yt viewers: https://www.statista.com/statistics/280685/number-of-monthly-unique-youtube-users/"
   ]
  },
  {
   "cell_type": "markdown",
   "id": "68a680c3-563f-43ad-91bb-b81cb363bcac",
   "metadata": {},
   "source": [
    "==> Added Dataset:\n",
    "- Revenues of alphabets from adsense in youtube (mult youtube proportion + alphabet revenues with ads) [statista]"
   ]
  },
  {
   "cell_type": "markdown",
   "id": "886d6601-2bbc-4a74-b4ef-2a8dc30a5a3c",
   "metadata": {},
   "source": [
    "I do believe on this part that looking for keywords such as crowdfunding or ads keywords in the comments will be more insightful than just picking weird external datasets"
   ]
  },
  {
   "cell_type": "markdown",
   "id": "98931a56-c268-4655-afb8-cef042604eec",
   "metadata": {
    "jp-MarkdownHeadingCollapsed": true
   },
   "source": [
    "### Research question 3: Which categories led YouTube's professionalization, and how did professional practices spread?"
   ]
  },
  {
   "cell_type": "markdown",
   "id": "3efb0f43-5b3d-4499-9651-2ae2c434ed13",
   "metadata": {},
   "source": [
    "#########################"
   ]
  },
  {
   "cell_type": "markdown",
   "id": "fd65f4da-4778-4b08-84ff-3783d6a09c87",
   "metadata": {
    "jp-MarkdownHeadingCollapsed": true
   },
   "source": [
    "## NO ADDITIONAL DATSETS FOR RQ 3, 4 and 5"
   ]
  },
  {
   "cell_type": "markdown",
   "id": "09fb5a71-cd03-4f85-9a50-8c7c53b7bf9c",
   "metadata": {},
   "source": [
    "External datasets seem irrelevant"
   ]
  },
  {
   "cell_type": "markdown",
   "id": "667ff69b-5562-4aae-ac66-4eadae39862b",
   "metadata": {
    "jp-MarkdownHeadingCollapsed": true
   },
   "source": [
    "### Research question 4: How does investment in content production reflect the transition from hobby to profession?"
   ]
  },
  {
   "cell_type": "markdown",
   "id": "e4e95aa0-1f2b-469b-a75a-2ccd2754a869",
   "metadata": {},
   "source": [
    "External datasets seem irrelevant"
   ]
  },
  {
   "cell_type": "markdown",
   "id": "83327bbd-8164-4aeb-b657-f92291a8655d",
   "metadata": {
    "jp-MarkdownHeadingCollapsed": true
   },
   "source": [
    "### Research question 5: How has community management evolved from casual interaction to professional engagement strategies?"
   ]
  },
  {
   "cell_type": "markdown",
   "id": "f3202a96-19b8-422d-a684-f092c0dbe646",
   "metadata": {
    "scrolled": true
   },
   "source": [
    "External datasets seem irrelevant"
   ]
  },
  {
   "cell_type": "code",
   "execution_count": null,
   "id": "e13ce4da-2b45-4ad8-9dce-bade69bc2545",
   "metadata": {},
   "outputs": [],
   "source": []
  }
 ],
 "metadata": {
  "kernelspec": {
   "display_name": "myenv",
   "language": "python",
   "name": "myenv"
  },
  "language_info": {
   "codemirror_mode": {
    "name": "ipython",
    "version": 3
   },
   "file_extension": ".py",
   "mimetype": "text/x-python",
   "name": "python",
   "nbconvert_exporter": "python",
   "pygments_lexer": "ipython3",
   "version": "3.12.7"
  }
 },
 "nbformat": 4,
 "nbformat_minor": 5
}
