{
 "cells": [
  {
   "cell_type": "markdown",
   "metadata": {},
   "source": [
    "# Milestone P2"
   ]
  },
  {
   "cell_type": "markdown",
   "metadata": {},
   "source": [
    "Idea 3: Analyzing YouTube’s Evolution into a Professional Platform for Creators\n",
    "When YouTube was created in 2005, the platform was not professionalized but it became\n",
    "now for many people, their main source of income. This project explores how YouTube\n",
    "evolved from a casual video-sharing site into a professional platform for full-time\n",
    "creators. Using the channel metadata and time-series data, I would analyze how the\n",
    "average size of successful channels (subscribers and views) has changed over time and\n",
    "identify signals of professionalization, such as increased upload frequency and consistent\n",
    "content themes. Additionally, I would explore which content categories (e.g., Gaming,\n",
    "Education) have seen the most professional growth, using the video metadata to track\n",
    "shifts in production quality and upload patterns. I’d correlate these changes with the\n",
    "introduction of monetization features (e.g., AdSense) and algorithm updates, to map out\n",
    "the timeline of YouTube’s transformation into a career-driven platform."
   ]
  },
  {
   "cell_type": "markdown",
   "metadata": {},
   "source": [
    "## Proposition"
   ]
  },
  {
   "cell_type": "markdown",
   "metadata": {},
   "source": [
    "### Title: The Professionalization of YouTube"
   ]
  },
  {
   "cell_type": "markdown",
   "metadata": {},
   "source": [
    "### Abstract"
   ]
  },
  {
   "cell_type": "markdown",
   "metadata": {},
   "source": [
    "This project investigates YouTube's transformation from a casual video-sharing platform into a professional content creation ecosystem. Using comprehensive data (Note Koami: Check the time line spanned by the time serie data!!!), we analyze the evolution of content creation into a viable career path by examining creator posting patterns, content strategies, monetization approaches, production quality, and community management practices. The study leverages channel metrics, engagement data, and growth patterns to identify key transitions in creator professionalization across different content categories. This research aims to provide insights into how YouTube shaped the creator economy and established new paradigms for professional digital content creation."
   ]
  },
  {
   "cell_type": "markdown",
   "metadata": {},
   "source": [
    "### Research questions and methodology"
   ]
  },
  {
   "cell_type": "markdown",
   "metadata": {},
   "source": [
    "#### Research question 1: How has the frequency and consistency of content creation evolved over time across different channel categories?\n",
    "\n",
    "We aim with this question to track how creators become more \"professional\" by looking at key aspects of professionalism:\n",
    "\n",
    "- Regular posting schedules (a key trait of professional content creators)\n",
    "- Increased content production frequency (indicating full-time commitment)\n",
    "- Consistency in activity (showing professional dedication)\n",
    "\n",
    "##### Method\n",
    "\n",
    "- We mainly focus on two datasets : df_timeseries_en (to analyze frequency and consistency of posting) and df_channels_en (to analyze channel categories and subscriber growth)\n",
    "- Analysis methodology: \n",
    "   - Time series analysis od posting patterns\n",
    "   - Statistical analysis of posting frequency\n",
    "   - Correlation between consistency and channel growth"
   ]
  },
  {
   "cell_type": "markdown",
   "metadata": {},
   "source": [
    "#### Research question 2: How has creator content strategy evolved to reflect professional monetization approaches?\n",
    "\n",
    "We aim with this question to track how creators adapt to Youtube's monetization features\n",
    "\n",
    "##### Method\n",
    "\n",
    "- Datasets\n",
    "   - video_meta : To analyze engagement metrics, video duration\n",
    "   - df_timeseries_en : to analyze views and subscribers growth\n",
    "   - num_comments: to analyze engagement trends\n",
    "- Analysis methodology: \n",
    "   - Analysis of engagement metrics over time\n",
    "   - Correlation between content optimization and growth\n",
    "   - Trend analysis of monetization indicators"
   ]
  },
  {
   "cell_type": "markdown",
   "metadata": {},
   "source": [
    "#### Research question 3: Which categories led YouTube's professionalization, and how did professional practices spread?\n",
    "\n",
    "##### Method\n",
    "\n",
    "- Datasets\n",
    "   - df_channels_en: to analyze category information\n",
    "   - df_timeseries_en: to analyze growth patterns by category\n",
    "   - video_meta: to analyze category performance metrics\n",
    "- Analysis methodology: \n",
    "   - Categorical trend analysis\n",
    "   - Timeline analysis of professional adoption\n",
    "   - Cross-category comparison of growth patterns"
   ]
  },
  {
   "cell_type": "markdown",
   "metadata": {},
   "source": [
    "#### Research question 4: How does investment in content production reflect the transition from hobby to profession?\n",
    "\n",
    "##### Method\n",
    "\n",
    "- Datasets\n",
    "   - video_meta: to analyze video duration, quality metrics\n",
    "   - df_timeseries_en: to analyze channel growth metrics\n",
    "- Analysis methodology: \n",
    "   - Analysis of production quality indicators\n",
    "   - Correlation between investment and success\n",
    "   - Time series analysis of quality metrics"
   ]
  },
  {
   "cell_type": "markdown",
   "metadata": {},
   "source": [
    "#### Research question 5: How has community management evolved from casual interaction to professional engagement strategies?\n",
    "\n",
    "##### Method\n",
    "\n",
    "- Datasets\n",
    "   - num_comments: Analyze comment engagement\n",
    "   - num_comments_authors: Analyze community interaction patterns\n",
    "   - df_timeseries_en: Analyze channel growth data\n",
    "- Analysis methodology: \n",
    "   - Analysis of community engagement patterns\n",
    "   - Correlation between engagement and growth\n",
    "   - Trend analysis of interaction strategies"
   ]
  },
  {
   "cell_type": "markdown",
   "metadata": {},
   "source": [
    "# Loading the various datasets "
   ]
  },
  {
   "cell_type": "code",
   "execution_count": 1,
   "metadata": {},
   "outputs": [
    {
     "name": "stderr",
     "output_type": "stream",
     "text": [
      "c:\\Users\\koami\\.conda\\envs\\ada\\lib\\site-packages\\dask\\dataframe\\_pyarrow_compat.py:15: FutureWarning: Minimal version of pyarrow will soon be increased to 14.0.1. You are using 11.0.0. Please consider upgrading.\n",
      "  warnings.warn(\n"
     ]
    }
   ],
   "source": [
    "import matplotlib.pyplot as plt\n",
    "import zstandard as zstd\n",
    "import seaborn as sns\n",
    "import pandas as pd\n",
    "import numpy as np\n",
    "import itertools\n",
    "import swifter\n",
    "import pickle\n",
    "import random\n",
    "import gzip\n",
    "import json\n",
    "import os"
   ]
  },
  {
   "cell_type": "code",
   "execution_count": 2,
   "metadata": {},
   "outputs": [],
   "source": [
    "data_path = \"C:/Users/koami/OneDrive/Desktop/Master3/ADA/2024/youniverse_data/\"\n"
   ]
  },
  {
   "cell_type": "code",
   "execution_count": 4,
   "metadata": {},
   "outputs": [
    {
     "name": "stdout",
     "output_type": "stream",
     "text": [
      "df_channels_en shape: (136470, 8)\n"
     ]
    },
    {
     "data": {
      "text/html": [
       "<div>\n",
       "<style scoped>\n",
       "    .dataframe tbody tr th:only-of-type {\n",
       "        vertical-align: middle;\n",
       "    }\n",
       "\n",
       "    .dataframe tbody tr th {\n",
       "        vertical-align: top;\n",
       "    }\n",
       "\n",
       "    .dataframe thead th {\n",
       "        text-align: right;\n",
       "    }\n",
       "</style>\n",
       "<table border=\"1\" class=\"dataframe\">\n",
       "  <thead>\n",
       "    <tr style=\"text-align: right;\">\n",
       "      <th></th>\n",
       "      <th>category_cc</th>\n",
       "      <th>join_date</th>\n",
       "      <th>channel</th>\n",
       "      <th>name_cc</th>\n",
       "      <th>subscribers_cc</th>\n",
       "      <th>videos_cc</th>\n",
       "      <th>subscriber_rank_sb</th>\n",
       "      <th>weights</th>\n",
       "    </tr>\n",
       "  </thead>\n",
       "  <tbody>\n",
       "    <tr>\n",
       "      <th>0</th>\n",
       "      <td>Gaming</td>\n",
       "      <td>2010-04-29</td>\n",
       "      <td>UC-lHJZR3Gqxm24_Vd_AJ5Yw</td>\n",
       "      <td>PewDiePie</td>\n",
       "      <td>101000000</td>\n",
       "      <td>3956</td>\n",
       "      <td>3.0</td>\n",
       "      <td>2.087</td>\n",
       "    </tr>\n",
       "    <tr>\n",
       "      <th>1</th>\n",
       "      <td>Education</td>\n",
       "      <td>2006-09-01</td>\n",
       "      <td>UCbCmjCuTUZos6Inko4u57UQ</td>\n",
       "      <td>Cocomelon - Nursery ...</td>\n",
       "      <td>60100000</td>\n",
       "      <td>458</td>\n",
       "      <td>7.0</td>\n",
       "      <td>2.087</td>\n",
       "    </tr>\n",
       "    <tr>\n",
       "      <th>2</th>\n",
       "      <td>Entertainment</td>\n",
       "      <td>2006-09-20</td>\n",
       "      <td>UCpEhnqL0y41EpW2TvWAHD7Q</td>\n",
       "      <td>SET India</td>\n",
       "      <td>56018869</td>\n",
       "      <td>32661</td>\n",
       "      <td>8.0</td>\n",
       "      <td>2.087</td>\n",
       "    </tr>\n",
       "    <tr>\n",
       "      <th>3</th>\n",
       "      <td>Howto &amp; Style</td>\n",
       "      <td>2016-11-15</td>\n",
       "      <td>UC295-Dw_tDNtZXFeAPAW6Aw</td>\n",
       "      <td>5-Minute Crafts</td>\n",
       "      <td>60600000</td>\n",
       "      <td>3591</td>\n",
       "      <td>9.0</td>\n",
       "      <td>2.087</td>\n",
       "    </tr>\n",
       "    <tr>\n",
       "      <th>4</th>\n",
       "      <td>Sports</td>\n",
       "      <td>2007-05-11</td>\n",
       "      <td>UCJ5v_MCY6GNUBTO8-D3XoAg</td>\n",
       "      <td>WWE</td>\n",
       "      <td>48400000</td>\n",
       "      <td>43421</td>\n",
       "      <td>11.0</td>\n",
       "      <td>2.087</td>\n",
       "    </tr>\n",
       "  </tbody>\n",
       "</table>\n",
       "</div>"
      ],
      "text/plain": [
       "     category_cc   join_date                   channel  \\\n",
       "0         Gaming  2010-04-29  UC-lHJZR3Gqxm24_Vd_AJ5Yw   \n",
       "1      Education  2006-09-01  UCbCmjCuTUZos6Inko4u57UQ   \n",
       "2  Entertainment  2006-09-20  UCpEhnqL0y41EpW2TvWAHD7Q   \n",
       "3  Howto & Style  2016-11-15  UC295-Dw_tDNtZXFeAPAW6Aw   \n",
       "4         Sports  2007-05-11  UCJ5v_MCY6GNUBTO8-D3XoAg   \n",
       "\n",
       "                   name_cc  subscribers_cc  videos_cc  subscriber_rank_sb  \\\n",
       "0                PewDiePie       101000000       3956                 3.0   \n",
       "1  Cocomelon - Nursery ...        60100000        458                 7.0   \n",
       "2                SET India        56018869      32661                 8.0   \n",
       "3          5-Minute Crafts        60600000       3591                 9.0   \n",
       "4                      WWE        48400000      43421                11.0   \n",
       "\n",
       "   weights  \n",
       "0    2.087  \n",
       "1    2.087  \n",
       "2    2.087  \n",
       "3    2.087  \n",
       "4    2.087  "
      ]
     },
     "execution_count": 4,
     "metadata": {},
     "output_type": "execute_result"
    }
   ],
   "source": [
    "#Channel data en\n",
    "df_channels_en = pd.read_csv(os.path.join(data_path, \"df_channels_en.tsv.gz\"), compression=\"infer\", sep=\"\\t\")\n",
    "print(f\"df_channels_en shape: {df_channels_en.shape}\")\n",
    "df_channels_en.head()"
   ]
  },
  {
   "cell_type": "code",
   "execution_count": 5,
   "metadata": {},
   "outputs": [
    {
     "data": {
      "text/html": [
       "<div>\n",
       "<style scoped>\n",
       "    .dataframe tbody tr th:only-of-type {\n",
       "        vertical-align: middle;\n",
       "    }\n",
       "\n",
       "    .dataframe tbody tr th {\n",
       "        vertical-align: top;\n",
       "    }\n",
       "\n",
       "    .dataframe thead th {\n",
       "        text-align: right;\n",
       "    }\n",
       "</style>\n",
       "<table border=\"1\" class=\"dataframe\">\n",
       "  <thead>\n",
       "    <tr style=\"text-align: right;\">\n",
       "      <th></th>\n",
       "      <th>channel</th>\n",
       "      <th>category</th>\n",
       "      <th>datetime</th>\n",
       "      <th>views</th>\n",
       "      <th>delta_views</th>\n",
       "      <th>subs</th>\n",
       "      <th>delta_subs</th>\n",
       "      <th>videos</th>\n",
       "      <th>delta_videos</th>\n",
       "      <th>activity</th>\n",
       "    </tr>\n",
       "  </thead>\n",
       "  <tbody>\n",
       "    <tr>\n",
       "      <th>0</th>\n",
       "      <td>UCBJuEqXfXTdcPSbGO9qqn1g</td>\n",
       "      <td>Film and Animation</td>\n",
       "      <td>2017-07-03 00:00:00</td>\n",
       "      <td>2.024946e+05</td>\n",
       "      <td>0.000000</td>\n",
       "      <td>650.222222</td>\n",
       "      <td>0.000000</td>\n",
       "      <td>5</td>\n",
       "      <td>0</td>\n",
       "      <td>3</td>\n",
       "    </tr>\n",
       "    <tr>\n",
       "      <th>1</th>\n",
       "      <td>UCBJuEqXfXTdcPSbGO9qqn1g</td>\n",
       "      <td>Film and Animation</td>\n",
       "      <td>2017-07-10 00:00:00</td>\n",
       "      <td>3.940857e+05</td>\n",
       "      <td>191591.111111</td>\n",
       "      <td>1046.000000</td>\n",
       "      <td>395.777778</td>\n",
       "      <td>6</td>\n",
       "      <td>1</td>\n",
       "      <td>1</td>\n",
       "    </tr>\n",
       "    <tr>\n",
       "      <th>2</th>\n",
       "      <td>UCBJuEqXfXTdcPSbGO9qqn1g</td>\n",
       "      <td>Film and Animation</td>\n",
       "      <td>2017-07-17 00:00:00</td>\n",
       "      <td>8.353938e+05</td>\n",
       "      <td>441308.083333</td>\n",
       "      <td>1501.500000</td>\n",
       "      <td>455.500000</td>\n",
       "      <td>6</td>\n",
       "      <td>0</td>\n",
       "      <td>1</td>\n",
       "    </tr>\n",
       "    <tr>\n",
       "      <th>3</th>\n",
       "      <td>UCBJuEqXfXTdcPSbGO9qqn1g</td>\n",
       "      <td>Film and Animation</td>\n",
       "      <td>2017-07-24 00:00:00</td>\n",
       "      <td>1.104577e+06</td>\n",
       "      <td>269183.250000</td>\n",
       "      <td>1750.000000</td>\n",
       "      <td>248.500000</td>\n",
       "      <td>6</td>\n",
       "      <td>0</td>\n",
       "      <td>0</td>\n",
       "    </tr>\n",
       "    <tr>\n",
       "      <th>4</th>\n",
       "      <td>UCBJuEqXfXTdcPSbGO9qqn1g</td>\n",
       "      <td>Film and Animation</td>\n",
       "      <td>2017-07-31 00:00:00</td>\n",
       "      <td>1.284406e+06</td>\n",
       "      <td>179828.600000</td>\n",
       "      <td>2008.300000</td>\n",
       "      <td>258.300000</td>\n",
       "      <td>6</td>\n",
       "      <td>0</td>\n",
       "      <td>0</td>\n",
       "    </tr>\n",
       "    <tr>\n",
       "      <th>...</th>\n",
       "      <td>...</td>\n",
       "      <td>...</td>\n",
       "      <td>...</td>\n",
       "      <td>...</td>\n",
       "      <td>...</td>\n",
       "      <td>...</td>\n",
       "      <td>...</td>\n",
       "      <td>...</td>\n",
       "      <td>...</td>\n",
       "      <td>...</td>\n",
       "    </tr>\n",
       "    <tr>\n",
       "      <th>18872494</th>\n",
       "      <td>UC0UeVA9YHpOEr_Ng442xiRw</td>\n",
       "      <td>Gaming</td>\n",
       "      <td>2019-09-02 00:00:00</td>\n",
       "      <td>6.012938e+06</td>\n",
       "      <td>232418.277778</td>\n",
       "      <td>61268.611111</td>\n",
       "      <td>1305.611111</td>\n",
       "      <td>278</td>\n",
       "      <td>2</td>\n",
       "      <td>10</td>\n",
       "    </tr>\n",
       "    <tr>\n",
       "      <th>18872495</th>\n",
       "      <td>UC0UeVA9YHpOEr_Ng442xiRw</td>\n",
       "      <td>Gaming</td>\n",
       "      <td>2019-09-09 00:00:00</td>\n",
       "      <td>6.244579e+06</td>\n",
       "      <td>231640.888889</td>\n",
       "      <td>62631.666667</td>\n",
       "      <td>1363.055556</td>\n",
       "      <td>287</td>\n",
       "      <td>9</td>\n",
       "      <td>13</td>\n",
       "    </tr>\n",
       "    <tr>\n",
       "      <th>18872496</th>\n",
       "      <td>UC0UeVA9YHpOEr_Ng442xiRw</td>\n",
       "      <td>Gaming</td>\n",
       "      <td>2019-09-16 00:00:00</td>\n",
       "      <td>6.480902e+06</td>\n",
       "      <td>236322.933333</td>\n",
       "      <td>64010.000000</td>\n",
       "      <td>1378.333333</td>\n",
       "      <td>294</td>\n",
       "      <td>7</td>\n",
       "      <td>16</td>\n",
       "    </tr>\n",
       "    <tr>\n",
       "      <th>18872497</th>\n",
       "      <td>UC0UeVA9YHpOEr_Ng442xiRw</td>\n",
       "      <td>Gaming</td>\n",
       "      <td>2019-09-23 00:00:00</td>\n",
       "      <td>6.745317e+06</td>\n",
       "      <td>264415.200000</td>\n",
       "      <td>65480.000000</td>\n",
       "      <td>1470.000000</td>\n",
       "      <td>301</td>\n",
       "      <td>7</td>\n",
       "      <td>15</td>\n",
       "    </tr>\n",
       "    <tr>\n",
       "      <th>18872498</th>\n",
       "      <td>UC0UeVA9YHpOEr_Ng442xiRw</td>\n",
       "      <td>Gaming</td>\n",
       "      <td>2019-09-30 00:00:00</td>\n",
       "      <td>6.987738e+06</td>\n",
       "      <td>242420.771429</td>\n",
       "      <td>66542.857143</td>\n",
       "      <td>1062.857143</td>\n",
       "      <td>308</td>\n",
       "      <td>7</td>\n",
       "      <td>16</td>\n",
       "    </tr>\n",
       "  </tbody>\n",
       "</table>\n",
       "<p>18872499 rows × 10 columns</p>\n",
       "</div>"
      ],
      "text/plain": [
       "                           channel            category             datetime  \\\n",
       "0         UCBJuEqXfXTdcPSbGO9qqn1g  Film and Animation  2017-07-03 00:00:00   \n",
       "1         UCBJuEqXfXTdcPSbGO9qqn1g  Film and Animation  2017-07-10 00:00:00   \n",
       "2         UCBJuEqXfXTdcPSbGO9qqn1g  Film and Animation  2017-07-17 00:00:00   \n",
       "3         UCBJuEqXfXTdcPSbGO9qqn1g  Film and Animation  2017-07-24 00:00:00   \n",
       "4         UCBJuEqXfXTdcPSbGO9qqn1g  Film and Animation  2017-07-31 00:00:00   \n",
       "...                            ...                 ...                  ...   \n",
       "18872494  UC0UeVA9YHpOEr_Ng442xiRw              Gaming  2019-09-02 00:00:00   \n",
       "18872495  UC0UeVA9YHpOEr_Ng442xiRw              Gaming  2019-09-09 00:00:00   \n",
       "18872496  UC0UeVA9YHpOEr_Ng442xiRw              Gaming  2019-09-16 00:00:00   \n",
       "18872497  UC0UeVA9YHpOEr_Ng442xiRw              Gaming  2019-09-23 00:00:00   \n",
       "18872498  UC0UeVA9YHpOEr_Ng442xiRw              Gaming  2019-09-30 00:00:00   \n",
       "\n",
       "                 views    delta_views          subs   delta_subs  videos  \\\n",
       "0         2.024946e+05       0.000000    650.222222     0.000000       5   \n",
       "1         3.940857e+05  191591.111111   1046.000000   395.777778       6   \n",
       "2         8.353938e+05  441308.083333   1501.500000   455.500000       6   \n",
       "3         1.104577e+06  269183.250000   1750.000000   248.500000       6   \n",
       "4         1.284406e+06  179828.600000   2008.300000   258.300000       6   \n",
       "...                ...            ...           ...          ...     ...   \n",
       "18872494  6.012938e+06  232418.277778  61268.611111  1305.611111     278   \n",
       "18872495  6.244579e+06  231640.888889  62631.666667  1363.055556     287   \n",
       "18872496  6.480902e+06  236322.933333  64010.000000  1378.333333     294   \n",
       "18872497  6.745317e+06  264415.200000  65480.000000  1470.000000     301   \n",
       "18872498  6.987738e+06  242420.771429  66542.857143  1062.857143     308   \n",
       "\n",
       "          delta_videos  activity  \n",
       "0                    0         3  \n",
       "1                    1         1  \n",
       "2                    0         1  \n",
       "3                    0         0  \n",
       "4                    0         0  \n",
       "...                ...       ...  \n",
       "18872494             2        10  \n",
       "18872495             9        13  \n",
       "18872496             7        16  \n",
       "18872497             7        15  \n",
       "18872498             7        16  \n",
       "\n",
       "[18872499 rows x 10 columns]"
      ]
     },
     "execution_count": 5,
     "metadata": {},
     "output_type": "execute_result"
    }
   ],
   "source": [
    "#Time series data en\n",
    "df_timeseries_en = pd.read_csv(os.path.join(data_path, \"df_timeseries_en.tsv.gz\"), compression=\"infer\", sep=\"\\t\")\n",
    "#print(f\"df_timeseries_en shape: {df_timeseries_en.shape}\")\n",
    "df_timeseries_en"
   ]
  },
  {
   "cell_type": "code",
   "execution_count": 6,
   "metadata": {},
   "outputs": [
    {
     "data": {
      "text/html": [
       "<div>\n",
       "<style scoped>\n",
       "    .dataframe tbody tr th:only-of-type {\n",
       "        vertical-align: middle;\n",
       "    }\n",
       "\n",
       "    .dataframe tbody tr th {\n",
       "        vertical-align: top;\n",
       "    }\n",
       "\n",
       "    .dataframe thead th {\n",
       "        text-align: right;\n",
       "    }\n",
       "</style>\n",
       "<table border=\"1\" class=\"dataframe\">\n",
       "  <thead>\n",
       "    <tr style=\"text-align: right;\">\n",
       "      <th></th>\n",
       "      <th>display_id</th>\n",
       "      <th>num_comms</th>\n",
       "    </tr>\n",
       "  </thead>\n",
       "  <tbody>\n",
       "    <tr>\n",
       "      <th>0</th>\n",
       "      <td>SBqSc91Hn9g</td>\n",
       "      <td>0.0</td>\n",
       "    </tr>\n",
       "    <tr>\n",
       "      <th>1</th>\n",
       "      <td>UuugEl86ESY</td>\n",
       "      <td>0.0</td>\n",
       "    </tr>\n",
       "    <tr>\n",
       "      <th>2</th>\n",
       "      <td>oB4c-yvnbjs</td>\n",
       "      <td>48.0</td>\n",
       "    </tr>\n",
       "    <tr>\n",
       "      <th>3</th>\n",
       "      <td>ZaV-gTCMV8E</td>\n",
       "      <td>6.0</td>\n",
       "    </tr>\n",
       "    <tr>\n",
       "      <th>4</th>\n",
       "      <td>cGvL7AvMfM0</td>\n",
       "      <td>5.0</td>\n",
       "    </tr>\n",
       "  </tbody>\n",
       "</table>\n",
       "</div>"
      ],
      "text/plain": [
       "    display_id  num_comms\n",
       "0  SBqSc91Hn9g        0.0\n",
       "1  UuugEl86ESY        0.0\n",
       "2  oB4c-yvnbjs       48.0\n",
       "3  ZaV-gTCMV8E        6.0\n",
       "4  cGvL7AvMfM0        5.0"
      ]
     },
     "execution_count": 6,
     "metadata": {},
     "output_type": "execute_result"
    }
   ],
   "source": [
    "num_comments = pd.read_csv(os.path.join(data_path, \"num_comments.tsv.gz\"), compression=\"infer\", sep=\"\\t\")\n",
    "num_comments.head()\n"
   ]
  },
  {
   "cell_type": "code",
   "execution_count": 7,
   "metadata": {},
   "outputs": [
    {
     "data": {
      "text/html": [
       "<div>\n",
       "<style scoped>\n",
       "    .dataframe tbody tr th:only-of-type {\n",
       "        vertical-align: middle;\n",
       "    }\n",
       "\n",
       "    .dataframe tbody tr th {\n",
       "        vertical-align: top;\n",
       "    }\n",
       "\n",
       "    .dataframe thead th {\n",
       "        text-align: right;\n",
       "    }\n",
       "</style>\n",
       "<table border=\"1\" class=\"dataframe\">\n",
       "  <thead>\n",
       "    <tr style=\"text-align: right;\">\n",
       "      <th></th>\n",
       "      <th>author</th>\n",
       "      <th>video_id</th>\n",
       "    </tr>\n",
       "  </thead>\n",
       "  <tbody>\n",
       "    <tr>\n",
       "      <th>0</th>\n",
       "      <td>1</td>\n",
       "      <td>5</td>\n",
       "    </tr>\n",
       "    <tr>\n",
       "      <th>1</th>\n",
       "      <td>2</td>\n",
       "      <td>3</td>\n",
       "    </tr>\n",
       "    <tr>\n",
       "      <th>2</th>\n",
       "      <td>3</td>\n",
       "      <td>2</td>\n",
       "    </tr>\n",
       "    <tr>\n",
       "      <th>3</th>\n",
       "      <td>4</td>\n",
       "      <td>6</td>\n",
       "    </tr>\n",
       "    <tr>\n",
       "      <th>4</th>\n",
       "      <td>5</td>\n",
       "      <td>3</td>\n",
       "    </tr>\n",
       "  </tbody>\n",
       "</table>\n",
       "</div>"
      ],
      "text/plain": [
       "   author  video_id\n",
       "0       1         5\n",
       "1       2         3\n",
       "2       3         2\n",
       "3       4         6\n",
       "4       5         3"
      ]
     },
     "execution_count": 7,
     "metadata": {},
     "output_type": "execute_result"
    }
   ],
   "source": [
    "num_comments_authors = pd.read_csv(os.path.join(data_path, \"num_comments_authors.tsv.gz\"), compression=\"infer\", \n",
    "                                   sep=\"\\t\")\n",
    "num_comments_authors.head()\n"
   ]
  },
  {
   "cell_type": "code",
   "execution_count": 3,
   "metadata": {},
   "outputs": [
    {
     "data": {
      "text/html": [
       "<div>\n",
       "<style scoped>\n",
       "    .dataframe tbody tr th:only-of-type {\n",
       "        vertical-align: middle;\n",
       "    }\n",
       "\n",
       "    .dataframe tbody tr th {\n",
       "        vertical-align: top;\n",
       "    }\n",
       "\n",
       "    .dataframe thead th {\n",
       "        text-align: right;\n",
       "    }\n",
       "</style>\n",
       "<table border=\"1\" class=\"dataframe\">\n",
       "  <thead>\n",
       "    <tr style=\"text-align: right;\">\n",
       "      <th></th>\n",
       "      <th>categories</th>\n",
       "      <th>channel_id</th>\n",
       "      <th>dislike_count</th>\n",
       "      <th>display_id</th>\n",
       "      <th>duration</th>\n",
       "      <th>like_count</th>\n",
       "      <th>upload_date</th>\n",
       "      <th>view_count</th>\n",
       "    </tr>\n",
       "  </thead>\n",
       "  <tbody>\n",
       "    <tr>\n",
       "      <th>0</th>\n",
       "      <td>Film &amp; Animation</td>\n",
       "      <td>UCzWrhkg9eK5I8Bm3HfV-unA</td>\n",
       "      <td>1.0</td>\n",
       "      <td>SBqSc91Hn9g</td>\n",
       "      <td>1159</td>\n",
       "      <td>8.0</td>\n",
       "      <td>2016-09-28</td>\n",
       "      <td>1057.0</td>\n",
       "    </tr>\n",
       "    <tr>\n",
       "      <th>1</th>\n",
       "      <td>Film &amp; Animation</td>\n",
       "      <td>UCzWrhkg9eK5I8Bm3HfV-unA</td>\n",
       "      <td>1.0</td>\n",
       "      <td>UuugEl86ESY</td>\n",
       "      <td>2681</td>\n",
       "      <td>23.0</td>\n",
       "      <td>2016-09-28</td>\n",
       "      <td>12894.0</td>\n",
       "    </tr>\n",
       "    <tr>\n",
       "      <th>2</th>\n",
       "      <td>Film &amp; Animation</td>\n",
       "      <td>UCzWrhkg9eK5I8Bm3HfV-unA</td>\n",
       "      <td>779.0</td>\n",
       "      <td>oB4c-yvnbjs</td>\n",
       "      <td>1394</td>\n",
       "      <td>1607.0</td>\n",
       "      <td>2016-09-28</td>\n",
       "      <td>1800602.0</td>\n",
       "    </tr>\n",
       "    <tr>\n",
       "      <th>3</th>\n",
       "      <td>Film &amp; Animation</td>\n",
       "      <td>UCzWrhkg9eK5I8Bm3HfV-unA</td>\n",
       "      <td>24.0</td>\n",
       "      <td>ZaV-gTCMV8E</td>\n",
       "      <td>5064</td>\n",
       "      <td>227.0</td>\n",
       "      <td>2016-09-28</td>\n",
       "      <td>57640.0</td>\n",
       "    </tr>\n",
       "    <tr>\n",
       "      <th>4</th>\n",
       "      <td>Film &amp; Animation</td>\n",
       "      <td>UCzWrhkg9eK5I8Bm3HfV-unA</td>\n",
       "      <td>13.0</td>\n",
       "      <td>cGvL7AvMfM0</td>\n",
       "      <td>3554</td>\n",
       "      <td>105.0</td>\n",
       "      <td>2016-09-28</td>\n",
       "      <td>86368.0</td>\n",
       "    </tr>\n",
       "  </tbody>\n",
       "</table>\n",
       "</div>"
      ],
      "text/plain": [
       "         categories                channel_id  dislike_count   display_id  \\\n",
       "0  Film & Animation  UCzWrhkg9eK5I8Bm3HfV-unA            1.0  SBqSc91Hn9g   \n",
       "1  Film & Animation  UCzWrhkg9eK5I8Bm3HfV-unA            1.0  UuugEl86ESY   \n",
       "2  Film & Animation  UCzWrhkg9eK5I8Bm3HfV-unA          779.0  oB4c-yvnbjs   \n",
       "3  Film & Animation  UCzWrhkg9eK5I8Bm3HfV-unA           24.0  ZaV-gTCMV8E   \n",
       "4  Film & Animation  UCzWrhkg9eK5I8Bm3HfV-unA           13.0  cGvL7AvMfM0   \n",
       "\n",
       "   duration  like_count upload_date  view_count  \n",
       "0      1159         8.0  2016-09-28      1057.0  \n",
       "1      2681        23.0  2016-09-28     12894.0  \n",
       "2      1394      1607.0  2016-09-28   1800602.0  \n",
       "3      5064       227.0  2016-09-28     57640.0  \n",
       "4      3554       105.0  2016-09-28     86368.0  "
      ]
     },
     "execution_count": 3,
     "metadata": {},
     "output_type": "execute_result"
    }
   ],
   "source": [
    "video_meta = pd.read_feather(os.path.join(data_path, \"yt_metadata_helper.feather\"))\n",
    "video_meta.head()"
   ]
  },
  {
   "cell_type": "markdown",
   "metadata": {},
   "source": [
    "# Data Processing"
   ]
  },
  {
   "cell_type": "markdown",
   "metadata": {},
   "source": [
    "### Data cleaning\n",
    "\n",
    "First, we evaluate the extent of missing values in the data.\n",
    "We have the following datasets:\n",
    "- df_channels_en\n",
    "- df_timeseries_en\n",
    "- num_comments\n",
    "- num_comments_authors\n",
    "- video_meta"
   ]
  },
  {
   "cell_type": "code",
   "execution_count": 38,
   "metadata": {},
   "outputs": [
    {
     "name": "stdout",
     "output_type": "stream",
     "text": [
      "The shape of df_channels_en is (136470, 8)\n"
     ]
    },
    {
     "data": {
      "image/png": "[encoded data removed]",
      "text/plain": [
       "<Figure size 600x400 with 1 Axes>"
      ]
     },
     "metadata": {},
     "output_type": "display_data"
    }
   ],
   "source": [
    "# df_channels_en columns: \n",
    "# category_cc: category of the channel.\n",
    "# join_date: join date of the channel.\n",
    "# channel: channel id.\n",
    "# name_cc: name of the channel.\n",
    "# subscribers_cc: number of subscribers.\n",
    "# videos_cc: number of videos.\n",
    "# subscriber_rank_sb: rank in terms of number of subscribers.\n",
    "# weights: weights calculated for each channel.\n",
    "print(f\"The shape of df_channels_en is {df_channels_en.shape}\")\n",
    "missing_values_df_channels_en = df_channels_en.apply(lambda x: x.isna().sum(axis=0) / df_channels_en.shape[0] * 100)\n",
    "\n",
    "plt.figure(figsize=(6, 4))\n",
    "ax = sns.barplot(x=missing_values_df_channels_en.values, y=missing_values_df_channels_en.index, orient='h')\n",
    "plt.xlabel('Percentage of Missing Values')\n",
    "plt.ylabel('Columns')\n",
    "plt.title('Percentage of Missing Values by Column')\n",
    "# Add percentage labels to the end of each bar\n",
    "for container in ax.containers:\n",
    "    ax.bar_label(container, fmt='%.2f%%', padding=5) \n",
    "plt.xlim(0, max(missing_values_df_channels_en.values) * 1.2)\n",
    "plt.tight_layout()\n",
    "plt.show()"
   ]
  },
  {
   "cell_type": "code",
   "execution_count": 40,
   "metadata": {},
   "outputs": [
    {
     "name": "stdout",
     "output_type": "stream",
     "text": [
      "The shape of df_timeseries_en is (18872499, 10)\n"
     ]
    },
    {
     "data": {
      "image/png": "[encoded data removed]",
      "text/plain": [
       "<Figure size 600x400 with 1 Axes>"
      ]
     },
     "metadata": {},
     "output_type": "display_data"
    }
   ],
   "source": [
    "# df_timeseries_en columns: \n",
    "# channel: channel id.\n",
    "# category: category of the channel as assigned by socialblade.com according to the last 10 videos at time of crawl.\n",
    "# datetime: Week related to the data point.\n",
    "# views: Total number of views the channel had this week.\n",
    "# delta_views: Delta views obtained this week. It is the number of views obtained this week.\n",
    "# subs: Total number of subscribers the channel had this week.\n",
    "# delta_subs: Delta subscribers obtained this week. It is the number of subscribers obtained this week.\n",
    "# videos: Total number of videos the channel had this week. It is the cumulative number of videos the channel has uploaded.\n",
    "# delta_videos: Delta videos obtained this week. It is the number of new videos uploaded this week.\n",
    "# activity: Number of videos published in the last 15 days.\n",
    "print(f\"The shape of df_timeseries_en is {df_timeseries_en.shape}\")\n",
    "missing_values_df_timeseries_en = df_timeseries_en.apply(lambda x: x.isna().sum(axis=0) / df_timeseries_en.shape[0] * 100)\n",
    "\n",
    "plt.figure(figsize=(6, 4))\n",
    "ax = sns.barplot(x=missing_values_df_timeseries_en.values, y=missing_values_df_timeseries_en.index, orient='h')\n",
    "plt.xlabel('Percentage of Missing Values')\n",
    "plt.ylabel('Columns')\n",
    "plt.title('Percentage of Missing Values by Column')\n",
    "# Add percentage labels to the end of each bar\n",
    "for container in ax.containers:\n",
    "    ax.bar_label(container, fmt='%.2f%%', padding=5)\n",
    "plt.xlim(0, max(missing_values_df_timeseries_en.values) * 1.2)\n",
    "plt.tight_layout()\n",
    "plt.show()"
   ]
  },
  {
   "cell_type": "code",
   "execution_count": 50,
   "metadata": {},
   "outputs": [
    {
     "name": "stdout",
     "output_type": "stream",
     "text": [
      "The shape of num_comments is (72924794, 2)\n",
      "Missing values for num_comments: display_id    0.0\n",
      "num_comms     0.0\n",
      "dtype: float64\n"
     ]
    }
   ],
   "source": [
    "# num_comments columns: \n",
    "# channel: channel id.\n",
    "# datetime: Week related to the data point.\n",
    "# num_comments: Total number of comments the channel had this week.\n",
    "# delta_comments: Delta comments obtained this week.\n",
    "\n",
    "print(f\"The shape of num_comments is {num_comments.shape}\")\n",
    "missing_values_num_comments = num_comments.apply(lambda x: x.isna().sum(axis=0) / num_comments.shape[0] * 100)\n",
    "print(f\"Missing values for num_comments: {missing_values_num_comments}\")\n"
   ]
  },
  {
   "cell_type": "code",
   "execution_count": 49,
   "metadata": {},
   "outputs": [
    {
     "name": "stdout",
     "output_type": "stream",
     "text": [
      "The shape of num_comments_authors is (448810483, 2)\n",
      "Missing values for num_comments_authors: author      0.0\n",
      "video_id    0.0\n",
      "dtype: float64\n"
     ]
    }
   ],
   "source": [
    "# num_comments_authors columns: \n",
    "# channel: channel id.\n",
    "# datetime: Week related to the data point.\n",
    "# num_comments: Total number of comments the channel had this week.\n",
    "# delta_comments: Delta comments obtained this week.\n",
    "\n",
    "print(f\"The shape of num_comments_authors is {num_comments_authors.shape}\")\n",
    "missing_values_num_comments_authors = num_comments_authors.apply(lambda x: x.isna().sum(axis=0) / num_comments_authors.shape[0] * 100)\n",
    "print(f\"Missing values for num_comments_authors: {missing_values_num_comments_authors}\")\n"
   ]
  },
  {
   "cell_type": "code",
   "execution_count": 46,
   "metadata": {},
   "outputs": [
    {
     "name": "stdout",
     "output_type": "stream",
     "text": [
      "The shape of video_meta is (72924794, 8)\n",
      "categories       0.000000\n",
      "channel_id       0.000000\n",
      "dislike_count    2.237179\n",
      "display_id       0.000000\n",
      "duration         0.000000\n",
      "like_count       2.237179\n",
      "upload_date      0.000000\n",
      "view_count       0.000897\n",
      "dtype: float64\n"
     ]
    },
    {
     "data": {
      "image/png": "[encoded data removed]",
      "text/plain": [
       "<Figure size 600x400 with 1 Axes>"
      ]
     },
     "metadata": {},
     "output_type": "display_data"
    }
   ],
   "source": [
    "# video_meta columns: \n",
    "# channel: channel id.\n",
    "# datetime: Week related to the data point.\n",
    "# duration: Duration of the video.\n",
    "# views: Total number of views the video had this week.\n",
    "# likes: Total number of likes the video had this week.\n",
    "# dislikes: Total number of dislikes the video had this week.\n",
    "\n",
    "print(f\"The shape of video_meta is {video_meta.shape}\")\n",
    "missing_values_video_meta = video_meta.apply(lambda x: x.isna().sum(axis=0) / video_meta.shape[0] * 100)\n",
    "print(missing_values_video_meta)\n",
    "\n",
    "plt.figure(figsize=(6, 4))\n",
    "ax = sns.barplot(x=missing_values_video_meta.values, y=missing_values_video_meta.index, orient='h')\n",
    "plt.xlabel('Percentage of Missing Values')\n",
    "plt.ylabel('Columns')\n",
    "plt.title('Percentage of Missing Values by Column')\n",
    "# Add percentage labels to the end of each bar\n",
    "for container in ax.containers:\n",
    "    ax.bar_label(container, fmt='%.2f%%', padding=5)\n",
    "plt.xlim(0, max(missing_values_video_meta.values) * 1.2)\n",
    "plt.tight_layout()\n",
    "plt.show()"
   ]
  },
  {
   "cell_type": "markdown",
   "metadata": {},
   "source": [
    "In general the extent of missing values is not too high (max 4.5%), we can see that the most missing values are in the video_meta dataset. We can afford to drop the missing values."
   ]
  },
  {
   "cell_type": "code",
   "execution_count": 60,
   "metadata": {},
   "outputs": [],
   "source": [
    "# Dropping missing values\n",
    "df_channels_en_cleaned = df_channels_en.dropna()\n",
    "df_timeseries_en_cleaned = df_timeseries_en.dropna()\n",
    "num_comments_cleaned = num_comments.dropna()\n",
    "num_comments_authors_cleaned = num_comments_authors.dropna()\n",
    "video_meta_cleaned = video_meta.dropna()"
   ]
  },
  {
   "cell_type": "code",
   "execution_count": 53,
   "metadata": {},
   "outputs": [
    {
     "name": "stdout",
     "output_type": "stream",
     "text": [
      "The shape of df_channels_en before cleaning is (136470, 8)\n",
      "The shape of df_timeseries_en before cleaning is (18872499, 10)\n",
      "The shape of num_comments before cleaning is (72924794, 2)\n",
      "The shape of num_comments_authors before cleaning is (448810483, 2)\n",
      "The shape of video_meta before cleaning is (72924794, 8)\n"
     ]
    }
   ],
   "source": [
    "print(f\"The shape of df_channels_en before cleaning is {df_channels_en.shape}\")\n",
    "print(f\"The shape of df_timeseries_en before cleaning is {df_timeseries_en.shape}\")\n",
    "print(f\"The shape of num_comments before cleaning is {num_comments.shape}\")\n",
    "print(f\"The shape of num_comments_authors before cleaning is {num_comments_authors.shape}\")\n",
    "print(f\"The shape of video_meta before cleaning is {video_meta.shape}\")"
   ]
  },
  {
   "cell_type": "code",
   "execution_count": 55,
   "metadata": {},
   "outputs": [
    {
     "name": "stdout",
     "output_type": "stream",
     "text": [
      "The shape of df_channels_en after cleaning is (136331, 8)\n",
      "The shape of df_timeseries_en after cleaning is (18851915, 10)\n",
      "The shape of num_comments after cleaning is (72924794, 2)\n",
      "The shape of num_comments_authors after cleaning is (448810483, 2)\n",
      "The shape of video_meta after cleaning is (71293336, 8)\n"
     ]
    }
   ],
   "source": [
    "print(f\"The shape of df_channels_en after cleaning is {df_channels_en_cleaned.shape}\")\n",
    "print(f\"The shape of df_timeseries_en after cleaning is {df_timeseries_en_cleaned.shape}\")\n",
    "print(f\"The shape of num_comments after cleaning is {num_comments_cleaned.shape}\")\n",
    "print(f\"The shape of num_comments_authors after cleaning is {num_comments_authors_cleaned.shape}\")\n",
    "print(f\"The shape of video_meta after cleaning is {video_meta_cleaned.shape}\")"
   ]
  },
  {
   "cell_type": "markdown",
   "metadata": {},
   "source": [
    "# Extract some metrics from the data\n",
    "\n",
    "*** Note Koami: Some of these metrics might not be easily doable if at all. I will try to see which ones we can do and which ones we can't.\n",
    "\n",
    "- Research Question 1: Posting Pattern Metrics:\n",
    "    - Upload frequency (videos per week/month)\n",
    "    - Time between uploads\n",
    "    - Consistency score (standard deviation of upload intervals)\n",
    "    - Activity level (from df_timeseries_en.activity)\n",
    "\n",
    "- Research Question 2: Content Strategy Metrics:\n",
    "    - Views per video\n",
    "    - Like/dislike ratio\n",
    "    - View-to-subscriber ratio\n",
    "    - Average video duration\n",
    "    - Comment-to-view ratio\n",
    "\n",
    "- Research Question 3: Category Professionalization Metrics:\n",
    "    - Number of channels per category\n",
    "    - Average subscriber growth rate\n",
    "    - Revenue potential indicators (views × engagement)\n",
    "    - Category growth rate\n",
    "\n",
    "- Research Question 4: Production Investment Metrics:\n",
    "    - Video duration trends\n",
    "    - Upload frequency stability\n",
    "    - View count improvement\n",
    "    - Production value indicators (can be derived from duration and engagement)\n",
    "\n",
    "- Research Question 5: Community Engagement Metrics:\n",
    "    - Comments per video\n",
    "    - Unique commenters ratio\n",
    "    - Comment response patterns\n",
    "    - Engagement rate (comments + likes per view)"
   ]
  },
  {
   "cell_type": "code",
   "execution_count": 82,
   "metadata": {},
   "outputs": [
    {
     "name": "stderr",
     "output_type": "stream",
     "text": [
      "C:\\Users\\koami\\AppData\\Local\\Temp\\ipykernel_9812\\168386190.py:2: SettingWithCopyWarning: \n",
      "A value is trying to be set on a copy of a slice from a DataFrame.\n",
      "Try using .loc[row_indexer,col_indexer] = value instead\n",
      "\n",
      "See the caveats in the documentation: https://pandas.pydata.org/pandas-docs/stable/user_guide/indexing.html#returning-a-view-versus-a-copy\n",
      "  df_timeseries_en_cleaned[\"datetime\"] = pd.to_datetime(df_timeseries_en_cleaned[\"datetime\"])\n"
     ]
    },
    {
     "name": "stdout",
     "output_type": "stream",
     "text": [
      "channel\n",
      "UChkYqBSmrYsPjOTK2N4pdWg    644.102041\n",
      "UCstEtN0pgOmCf02EdXsGChw    456.690323\n",
      "UCcv7pspGHmM7AOywuLM1ufA    454.591667\n",
      "UCRNmk0RhyeoHOgcB5xxgqBw    443.709677\n",
      "UCKwucPzHZ7zCUIf7If-Wo1g    415.077419\n",
      "UCrp_UI8XtuYfpiqluWLD7Lw    410.707692\n",
      "UCsT0YIqwnpJCM-mx7-gSA4Q    405.200000\n",
      "UC8yH-uI81UUtEMDsowQyx1g    387.161290\n",
      "UCPXTXMecYqnRKNdqdVOGSFg    315.464516\n",
      "UCYPvAwZP8pZhSMW8qs7cVCw    294.673077\n",
      "Name: delta_videos, dtype: float64\n"
     ]
    },
    {
     "data": {
      "image/png": "[encoded data removed]",
      "text/plain": [
       "<Figure size 640x480 with 1 Axes>"
      ]
     },
     "metadata": {},
     "output_type": "display_data"
    }
   ],
   "source": [
    "# Upload frequency\n",
    "df_timeseries_en_cleaned[\"datetime\"] = pd.to_datetime(df_timeseries_en_cleaned[\"datetime\"])\n",
    "# Calculate average weekly uploads for each channel\n",
    "# Note Koami: I am not sure if this is the correct way to calculate the upload frequency. Need to check this !!!!\n",
    "channel_uploads = df_timeseries_en_cleaned.groupby('channel')['delta_videos'].mean().sort_values(ascending=False)\n",
    "# Get top N channels\n",
    "top_n_channels = 10\n",
    "top_channels = channel_uploads.head(top_n_channels)\n",
    "print(top_channels)\n",
    "sns.barplot(x=top_channels.values, y=top_channels.index)\n",
    "plt.title(f'Upload Frequency Over Time for Top Channel')\n",
    "plt.xlabel('Videos Uploaded')\n",
    "plt.ylabel('Channel')\n",
    "plt.show()\n"
   ]
  }
 ],
 "metadata": {
  "kernelspec": {
   "display_name": "Python 3 (ipykernel)",
   "language": "python",
   "name": "python3"
  },
  "language_info": {
   "codemirror_mode": {
    "name": "ipython",
    "version": 3
   },
   "file_extension": ".py",
   "mimetype": "text/x-python",
   "name": "python",
   "nbconvert_exporter": "python",
   "pygments_lexer": "ipython3",
   "version": "3.10.9"
  }
 },
 "nbformat": 4,
 "nbformat_minor": 2
}
