{
 "cells": [
  {
   "cell_type": "markdown",
   "id": "83388284",
   "metadata": {},
   "source": [
    "# Analysis of YouTube Content Creation Evolution\n",
    "\n",
    "This notebook explores the frequency and consistency of content creation across different YouTube channel categories over time, using the YouNiverse dataset."
   ]
  },
  {
   "cell_type": "code",
   "execution_count": 13,
   "id": "4473391b",
   "metadata": {},
   "outputs": [],
   "source": [
    "import pandas as pd\n",
    "import numpy as np\n",
    "import matplotlib.pyplot as plt\n",
    "\n",
    "# Load the datasets\n",
    "channel_data = pd.read_csv(\"data/df_channels_en_with_monetization.csv\", dtype={\n",
    "        'has_affiliate': 'boolean',\n",
    "        'has_sponsorships': 'boolean',\n",
    "        'has_merchandise': 'boolean'\n",
    "    })\n",
    "\n",
    "timeseries_data = pd.read_csv(\"data/df_timeseries_en.tsv.gz\", compression=\"infer\", sep=\"\\t\")\n",
    "video_data = pd.read_feather(\"data/yt_metadata_helper.feather\")"
   ]
  },
  {
   "cell_type": "code",
   "execution_count": 17,
   "id": "347b98d3",
   "metadata": {},
   "outputs": [
    {
     "data": {
      "text/html": [
       "<div>\n",
       "<style scoped>\n",
       "    .dataframe tbody tr th:only-of-type {\n",
       "        vertical-align: middle;\n",
       "    }\n",
       "\n",
       "    .dataframe tbody tr th {\n",
       "        vertical-align: top;\n",
       "    }\n",
       "\n",
       "    .dataframe thead th {\n",
       "        text-align: right;\n",
       "    }\n",
       "</style>\n",
       "<table border=\"1\" class=\"dataframe\">\n",
       "  <thead>\n",
       "    <tr style=\"text-align: right;\">\n",
       "      <th></th>\n",
       "      <th>category_cc</th>\n",
       "      <th>join_date</th>\n",
       "      <th>channel</th>\n",
       "      <th>name_cc</th>\n",
       "      <th>subscribers_cc</th>\n",
       "      <th>videos_cc</th>\n",
       "      <th>subscriber_rank_sb</th>\n",
       "      <th>weights</th>\n",
       "      <th>lowest_monthly_earnings</th>\n",
       "      <th>highest_monthly_earnings</th>\n",
       "      <th>lowest_yearly_earnings</th>\n",
       "      <th>highest_yearly_earnings</th>\n",
       "      <th>has_affiliate</th>\n",
       "      <th>has_sponsorships</th>\n",
       "      <th>has_merchandise</th>\n",
       "    </tr>\n",
       "  </thead>\n",
       "  <tbody>\n",
       "    <tr>\n",
       "      <th>0</th>\n",
       "      <td>Gaming</td>\n",
       "      <td>2010-04-29</td>\n",
       "      <td>UC-lHJZR3Gqxm24_Vd_AJ5Yw</td>\n",
       "      <td>PewDiePie</td>\n",
       "      <td>101000000</td>\n",
       "      <td>3956</td>\n",
       "      <td>3.0</td>\n",
       "      <td>2.087</td>\n",
       "      <td>9800.0</td>\n",
       "      <td>156700.0</td>\n",
       "      <td>117600.0</td>\n",
       "      <td>1900000.00</td>\n",
       "      <td>&lt;NA&gt;</td>\n",
       "      <td>&lt;NA&gt;</td>\n",
       "      <td>&lt;NA&gt;</td>\n",
       "    </tr>\n",
       "    <tr>\n",
       "      <th>1</th>\n",
       "      <td>Education</td>\n",
       "      <td>2006-09-01</td>\n",
       "      <td>UCbCmjCuTUZos6Inko4u57UQ</td>\n",
       "      <td>Cocomelon - Nursery ...</td>\n",
       "      <td>60100000</td>\n",
       "      <td>458</td>\n",
       "      <td>7.0</td>\n",
       "      <td>2.087</td>\n",
       "      <td>NaN</td>\n",
       "      <td>NaN</td>\n",
       "      <td>NaN</td>\n",
       "      <td>NaN</td>\n",
       "      <td>&lt;NA&gt;</td>\n",
       "      <td>&lt;NA&gt;</td>\n",
       "      <td>&lt;NA&gt;</td>\n",
       "    </tr>\n",
       "    <tr>\n",
       "      <th>2</th>\n",
       "      <td>Entertainment</td>\n",
       "      <td>2006-09-20</td>\n",
       "      <td>UCpEhnqL0y41EpW2TvWAHD7Q</td>\n",
       "      <td>SET India</td>\n",
       "      <td>56018869</td>\n",
       "      <td>32661</td>\n",
       "      <td>8.0</td>\n",
       "      <td>2.087</td>\n",
       "      <td>NaN</td>\n",
       "      <td>NaN</td>\n",
       "      <td>NaN</td>\n",
       "      <td>NaN</td>\n",
       "      <td>False</td>\n",
       "      <td>False</td>\n",
       "      <td>True</td>\n",
       "    </tr>\n",
       "    <tr>\n",
       "      <th>3</th>\n",
       "      <td>Howto &amp; Style</td>\n",
       "      <td>2016-11-15</td>\n",
       "      <td>UC295-Dw_tDNtZXFeAPAW6Aw</td>\n",
       "      <td>5-Minute Crafts</td>\n",
       "      <td>60600000</td>\n",
       "      <td>3591</td>\n",
       "      <td>9.0</td>\n",
       "      <td>2.087</td>\n",
       "      <td>0.0</td>\n",
       "      <td>0.0</td>\n",
       "      <td>0.0</td>\n",
       "      <td>0.05</td>\n",
       "      <td>False</td>\n",
       "      <td>False</td>\n",
       "      <td>False</td>\n",
       "    </tr>\n",
       "    <tr>\n",
       "      <th>4</th>\n",
       "      <td>Sports</td>\n",
       "      <td>2007-05-11</td>\n",
       "      <td>UCJ5v_MCY6GNUBTO8-D3XoAg</td>\n",
       "      <td>WWE</td>\n",
       "      <td>48400000</td>\n",
       "      <td>43421</td>\n",
       "      <td>11.0</td>\n",
       "      <td>2.087</td>\n",
       "      <td>178700.0</td>\n",
       "      <td>2900000.0</td>\n",
       "      <td>2100000.0</td>\n",
       "      <td>34300000.00</td>\n",
       "      <td>False</td>\n",
       "      <td>False</td>\n",
       "      <td>False</td>\n",
       "    </tr>\n",
       "  </tbody>\n",
       "</table>\n",
       "</div>"
      ],
      "text/plain": [
       "     category_cc   join_date                   channel  \\\n",
       "0         Gaming  2010-04-29  UC-lHJZR3Gqxm24_Vd_AJ5Yw   \n",
       "1      Education  2006-09-01  UCbCmjCuTUZos6Inko4u57UQ   \n",
       "2  Entertainment  2006-09-20  UCpEhnqL0y41EpW2TvWAHD7Q   \n",
       "3  Howto & Style  2016-11-15  UC295-Dw_tDNtZXFeAPAW6Aw   \n",
       "4         Sports  2007-05-11  UCJ5v_MCY6GNUBTO8-D3XoAg   \n",
       "\n",
       "                   name_cc  subscribers_cc  videos_cc  subscriber_rank_sb  \\\n",
       "0                PewDiePie       101000000       3956                 3.0   \n",
       "1  Cocomelon - Nursery ...        60100000        458                 7.0   \n",
       "2                SET India        56018869      32661                 8.0   \n",
       "3          5-Minute Crafts        60600000       3591                 9.0   \n",
       "4                      WWE        48400000      43421                11.0   \n",
       "\n",
       "   weights  lowest_monthly_earnings  highest_monthly_earnings  \\\n",
       "0    2.087                   9800.0                  156700.0   \n",
       "1    2.087                      NaN                       NaN   \n",
       "2    2.087                      NaN                       NaN   \n",
       "3    2.087                      0.0                       0.0   \n",
       "4    2.087                 178700.0                 2900000.0   \n",
       "\n",
       "   lowest_yearly_earnings  highest_yearly_earnings  has_affiliate  \\\n",
       "0                117600.0               1900000.00           <NA>   \n",
       "1                     NaN                      NaN           <NA>   \n",
       "2                     NaN                      NaN          False   \n",
       "3                     0.0                     0.05          False   \n",
       "4               2100000.0              34300000.00          False   \n",
       "\n",
       "   has_sponsorships  has_merchandise  \n",
       "0              <NA>             <NA>  \n",
       "1              <NA>             <NA>  \n",
       "2             False             True  \n",
       "3             False            False  \n",
       "4             False            False  "
      ]
     },
     "execution_count": 17,
     "metadata": {},
     "output_type": "execute_result"
    }
   ],
   "source": [
    "channel_data.head(5)"
   ]
  },
  {
   "cell_type": "code",
   "execution_count": 18,
   "id": "8664960a",
   "metadata": {},
   "outputs": [
    {
     "data": {
      "text/html": [
       "<div>\n",
       "<style scoped>\n",
       "    .dataframe tbody tr th:only-of-type {\n",
       "        vertical-align: middle;\n",
       "    }\n",
       "\n",
       "    .dataframe tbody tr th {\n",
       "        vertical-align: top;\n",
       "    }\n",
       "\n",
       "    .dataframe thead th {\n",
       "        text-align: right;\n",
       "    }\n",
       "</style>\n",
       "<table border=\"1\" class=\"dataframe\">\n",
       "  <thead>\n",
       "    <tr style=\"text-align: right;\">\n",
       "      <th></th>\n",
       "      <th>channel</th>\n",
       "      <th>category</th>\n",
       "      <th>datetime</th>\n",
       "      <th>views</th>\n",
       "      <th>delta_views</th>\n",
       "      <th>subs</th>\n",
       "      <th>delta_subs</th>\n",
       "      <th>videos</th>\n",
       "      <th>delta_videos</th>\n",
       "      <th>activity</th>\n",
       "    </tr>\n",
       "  </thead>\n",
       "  <tbody>\n",
       "    <tr>\n",
       "      <th>0</th>\n",
       "      <td>UCBJuEqXfXTdcPSbGO9qqn1g</td>\n",
       "      <td>Film and Animation</td>\n",
       "      <td>2017-07-03 00:00:00</td>\n",
       "      <td>2.024946e+05</td>\n",
       "      <td>0.000000</td>\n",
       "      <td>650.222222</td>\n",
       "      <td>0.000000</td>\n",
       "      <td>5</td>\n",
       "      <td>0</td>\n",
       "      <td>3</td>\n",
       "    </tr>\n",
       "    <tr>\n",
       "      <th>1</th>\n",
       "      <td>UCBJuEqXfXTdcPSbGO9qqn1g</td>\n",
       "      <td>Film and Animation</td>\n",
       "      <td>2017-07-10 00:00:00</td>\n",
       "      <td>3.940857e+05</td>\n",
       "      <td>191591.111111</td>\n",
       "      <td>1046.000000</td>\n",
       "      <td>395.777778</td>\n",
       "      <td>6</td>\n",
       "      <td>1</td>\n",
       "      <td>1</td>\n",
       "    </tr>\n",
       "    <tr>\n",
       "      <th>2</th>\n",
       "      <td>UCBJuEqXfXTdcPSbGO9qqn1g</td>\n",
       "      <td>Film and Animation</td>\n",
       "      <td>2017-07-17 00:00:00</td>\n",
       "      <td>8.353938e+05</td>\n",
       "      <td>441308.083333</td>\n",
       "      <td>1501.500000</td>\n",
       "      <td>455.500000</td>\n",
       "      <td>6</td>\n",
       "      <td>0</td>\n",
       "      <td>1</td>\n",
       "    </tr>\n",
       "    <tr>\n",
       "      <th>3</th>\n",
       "      <td>UCBJuEqXfXTdcPSbGO9qqn1g</td>\n",
       "      <td>Film and Animation</td>\n",
       "      <td>2017-07-24 00:00:00</td>\n",
       "      <td>1.104577e+06</td>\n",
       "      <td>269183.250000</td>\n",
       "      <td>1750.000000</td>\n",
       "      <td>248.500000</td>\n",
       "      <td>6</td>\n",
       "      <td>0</td>\n",
       "      <td>0</td>\n",
       "    </tr>\n",
       "    <tr>\n",
       "      <th>4</th>\n",
       "      <td>UCBJuEqXfXTdcPSbGO9qqn1g</td>\n",
       "      <td>Film and Animation</td>\n",
       "      <td>2017-07-31 00:00:00</td>\n",
       "      <td>1.284406e+06</td>\n",
       "      <td>179828.600000</td>\n",
       "      <td>2008.300000</td>\n",
       "      <td>258.300000</td>\n",
       "      <td>6</td>\n",
       "      <td>0</td>\n",
       "      <td>0</td>\n",
       "    </tr>\n",
       "  </tbody>\n",
       "</table>\n",
       "</div>"
      ],
      "text/plain": [
       "                    channel            category             datetime  \\\n",
       "0  UCBJuEqXfXTdcPSbGO9qqn1g  Film and Animation  2017-07-03 00:00:00   \n",
       "1  UCBJuEqXfXTdcPSbGO9qqn1g  Film and Animation  2017-07-10 00:00:00   \n",
       "2  UCBJuEqXfXTdcPSbGO9qqn1g  Film and Animation  2017-07-17 00:00:00   \n",
       "3  UCBJuEqXfXTdcPSbGO9qqn1g  Film and Animation  2017-07-24 00:00:00   \n",
       "4  UCBJuEqXfXTdcPSbGO9qqn1g  Film and Animation  2017-07-31 00:00:00   \n",
       "\n",
       "          views    delta_views         subs  delta_subs  videos  delta_videos  \\\n",
       "0  2.024946e+05       0.000000   650.222222    0.000000       5             0   \n",
       "1  3.940857e+05  191591.111111  1046.000000  395.777778       6             1   \n",
       "2  8.353938e+05  441308.083333  1501.500000  455.500000       6             0   \n",
       "3  1.104577e+06  269183.250000  1750.000000  248.500000       6             0   \n",
       "4  1.284406e+06  179828.600000  2008.300000  258.300000       6             0   \n",
       "\n",
       "   activity  \n",
       "0         3  \n",
       "1         1  \n",
       "2         1  \n",
       "3         0  \n",
       "4         0  "
      ]
     },
     "execution_count": 18,
     "metadata": {},
     "output_type": "execute_result"
    }
   ],
   "source": [
    "timeseries_data.head(5)"
   ]
  },
  {
   "cell_type": "code",
   "execution_count": 19,
   "id": "d16c4695",
   "metadata": {},
   "outputs": [
    {
     "data": {
      "text/html": [
       "<div>\n",
       "<style scoped>\n",
       "    .dataframe tbody tr th:only-of-type {\n",
       "        vertical-align: middle;\n",
       "    }\n",
       "\n",
       "    .dataframe tbody tr th {\n",
       "        vertical-align: top;\n",
       "    }\n",
       "\n",
       "    .dataframe thead th {\n",
       "        text-align: right;\n",
       "    }\n",
       "</style>\n",
       "<table border=\"1\" class=\"dataframe\">\n",
       "  <thead>\n",
       "    <tr style=\"text-align: right;\">\n",
       "      <th></th>\n",
       "      <th>categories</th>\n",
       "      <th>channel_id</th>\n",
       "      <th>dislike_count</th>\n",
       "      <th>display_id</th>\n",
       "      <th>duration</th>\n",
       "      <th>like_count</th>\n",
       "      <th>upload_date</th>\n",
       "      <th>view_count</th>\n",
       "    </tr>\n",
       "  </thead>\n",
       "  <tbody>\n",
       "    <tr>\n",
       "      <th>0</th>\n",
       "      <td>Film &amp; Animation</td>\n",
       "      <td>UCzWrhkg9eK5I8Bm3HfV-unA</td>\n",
       "      <td>1.0</td>\n",
       "      <td>SBqSc91Hn9g</td>\n",
       "      <td>1159</td>\n",
       "      <td>8.0</td>\n",
       "      <td>2016-09-28</td>\n",
       "      <td>1057.0</td>\n",
       "    </tr>\n",
       "    <tr>\n",
       "      <th>1</th>\n",
       "      <td>Film &amp; Animation</td>\n",
       "      <td>UCzWrhkg9eK5I8Bm3HfV-unA</td>\n",
       "      <td>1.0</td>\n",
       "      <td>UuugEl86ESY</td>\n",
       "      <td>2681</td>\n",
       "      <td>23.0</td>\n",
       "      <td>2016-09-28</td>\n",
       "      <td>12894.0</td>\n",
       "    </tr>\n",
       "    <tr>\n",
       "      <th>2</th>\n",
       "      <td>Film &amp; Animation</td>\n",
       "      <td>UCzWrhkg9eK5I8Bm3HfV-unA</td>\n",
       "      <td>779.0</td>\n",
       "      <td>oB4c-yvnbjs</td>\n",
       "      <td>1394</td>\n",
       "      <td>1607.0</td>\n",
       "      <td>2016-09-28</td>\n",
       "      <td>1800602.0</td>\n",
       "    </tr>\n",
       "    <tr>\n",
       "      <th>3</th>\n",
       "      <td>Film &amp; Animation</td>\n",
       "      <td>UCzWrhkg9eK5I8Bm3HfV-unA</td>\n",
       "      <td>24.0</td>\n",
       "      <td>ZaV-gTCMV8E</td>\n",
       "      <td>5064</td>\n",
       "      <td>227.0</td>\n",
       "      <td>2016-09-28</td>\n",
       "      <td>57640.0</td>\n",
       "    </tr>\n",
       "    <tr>\n",
       "      <th>4</th>\n",
       "      <td>Film &amp; Animation</td>\n",
       "      <td>UCzWrhkg9eK5I8Bm3HfV-unA</td>\n",
       "      <td>13.0</td>\n",
       "      <td>cGvL7AvMfM0</td>\n",
       "      <td>3554</td>\n",
       "      <td>105.0</td>\n",
       "      <td>2016-09-28</td>\n",
       "      <td>86368.0</td>\n",
       "    </tr>\n",
       "  </tbody>\n",
       "</table>\n",
       "</div>"
      ],
      "text/plain": [
       "         categories                channel_id  dislike_count   display_id  \\\n",
       "0  Film & Animation  UCzWrhkg9eK5I8Bm3HfV-unA            1.0  SBqSc91Hn9g   \n",
       "1  Film & Animation  UCzWrhkg9eK5I8Bm3HfV-unA            1.0  UuugEl86ESY   \n",
       "2  Film & Animation  UCzWrhkg9eK5I8Bm3HfV-unA          779.0  oB4c-yvnbjs   \n",
       "3  Film & Animation  UCzWrhkg9eK5I8Bm3HfV-unA           24.0  ZaV-gTCMV8E   \n",
       "4  Film & Animation  UCzWrhkg9eK5I8Bm3HfV-unA           13.0  cGvL7AvMfM0   \n",
       "\n",
       "   duration  like_count upload_date  view_count  \n",
       "0      1159         8.0  2016-09-28      1057.0  \n",
       "1      2681        23.0  2016-09-28     12894.0  \n",
       "2      1394      1607.0  2016-09-28   1800602.0  \n",
       "3      5064       227.0  2016-09-28     57640.0  \n",
       "4      3554       105.0  2016-09-28     86368.0  "
      ]
     },
     "execution_count": 19,
     "metadata": {},
     "output_type": "execute_result"
    }
   ],
   "source": [
    "video_data.head(5)"
   ]
  },
  {
   "cell_type": "code",
   "execution_count": 20,
   "id": "fa02a57c",
   "metadata": {},
   "outputs": [],
   "source": [
    "channel_data['join_date'] = pd.to_datetime(channel_data['join_date'])\n",
    "video_data['upload_date'] = pd.to_datetime(video_data['upload_date'])\n",
    "timeseries_data['datetime'] = pd.to_datetime(timeseries_data['datetime'])"
   ]
  },
  {
   "cell_type": "code",
   "execution_count": 21,
   "id": "e8bd4f21",
   "metadata": {},
   "outputs": [
    {
     "data": {
      "text/plain": [
       "category_cc                    128\n",
       "join_date                        1\n",
       "channel                          0\n",
       "name_cc                         10\n",
       "subscribers_cc                   0\n",
       "videos_cc                        0\n",
       "subscriber_rank_sb               0\n",
       "weights                          0\n",
       "lowest_monthly_earnings     136175\n",
       "highest_monthly_earnings    136175\n",
       "lowest_yearly_earnings      136175\n",
       "highest_yearly_earnings     136175\n",
       "has_affiliate               101062\n",
       "has_sponsorships            101062\n",
       "has_merchandise             101062\n",
       "dtype: int64"
      ]
     },
     "execution_count": 21,
     "metadata": {},
     "output_type": "execute_result"
    }
   ],
   "source": [
    "channel_data.isna().sum()"
   ]
  },
  {
   "cell_type": "markdown",
   "id": "164fde14",
   "metadata": {},
   "source": [
    "We might want to remove samples that have NaN category and/or NaN name."
   ]
  },
  {
   "cell_type": "code",
   "execution_count": 22,
   "id": "561b891d",
   "metadata": {},
   "outputs": [
    {
     "data": {
      "text/plain": [
       "(136470, 15)"
      ]
     },
     "execution_count": 22,
     "metadata": {},
     "output_type": "execute_result"
    }
   ],
   "source": [
    "channel_data.shape"
   ]
  },
  {
   "cell_type": "code",
   "execution_count": 23,
   "id": "e3ad1436",
   "metadata": {},
   "outputs": [],
   "source": [
    "# Remove samples that have no category and/or name\n",
    "channel_data = channel_data.dropna(subset=['category_cc', 'name_cc'])"
   ]
  },
  {
   "cell_type": "code",
   "execution_count": 24,
   "id": "8fde559a",
   "metadata": {},
   "outputs": [
    {
     "data": {
      "text/plain": [
       "(136332, 15)"
      ]
     },
     "execution_count": 24,
     "metadata": {},
     "output_type": "execute_result"
    }
   ],
   "source": [
    "# New shape after removing samples\n",
    "channel_data.shape"
   ]
  },
  {
   "cell_type": "code",
   "execution_count": 27,
   "id": "9602f0bd",
   "metadata": {},
   "outputs": [
    {
     "data": {
      "text/plain": [
       "channel             0\n",
       "category        20584\n",
       "datetime            0\n",
       "views               0\n",
       "delta_views         0\n",
       "subs                0\n",
       "delta_subs          0\n",
       "videos              0\n",
       "delta_videos        0\n",
       "activity            0\n",
       "dtype: int64"
      ]
     },
     "execution_count": 27,
     "metadata": {},
     "output_type": "execute_result"
    }
   ],
   "source": [
    "timeseries_data.isna().sum()"
   ]
  },
  {
   "cell_type": "code",
   "execution_count": 28,
   "id": "4f9d8edf",
   "metadata": {},
   "outputs": [
    {
     "data": {
      "text/plain": [
       "(18872499, 10)"
      ]
     },
     "execution_count": 28,
     "metadata": {},
     "output_type": "execute_result"
    }
   ],
   "source": [
    "timeseries_data.shape"
   ]
  },
  {
   "cell_type": "code",
   "execution_count": 30,
   "id": "45bf773a",
   "metadata": {},
   "outputs": [],
   "source": [
    "timeseries_data = timeseries_data.dropna()"
   ]
  },
  {
   "cell_type": "code",
   "execution_count": null,
   "id": "a0bab493",
   "metadata": {},
   "outputs": [
    {
     "data": {
      "text/plain": [
       "(18851915, 10)"
      ]
     },
     "execution_count": 31,
     "metadata": {},
     "output_type": "execute_result"
    }
   ],
   "source": [
    "# New shape after removing samples\n",
    "timeseries_data.shape"
   ]
  },
  {
   "cell_type": "code",
   "execution_count": 25,
   "id": "6995144d",
   "metadata": {},
   "outputs": [
    {
     "data": {
      "text/plain": [
       "categories             0\n",
       "channel_id             0\n",
       "dislike_count    1631458\n",
       "display_id             0\n",
       "duration               0\n",
       "like_count       1631458\n",
       "upload_date            0\n",
       "view_count           654\n",
       "dtype: int64"
      ]
     },
     "execution_count": 25,
     "metadata": {},
     "output_type": "execute_result"
    }
   ],
   "source": [
    "video_data.isna().sum()"
   ]
  },
  {
   "cell_type": "markdown",
   "id": "86a3c63b",
   "metadata": {},
   "source": [
    "The fact that there are some NaN values about the dislike, like and view counts won't affect our research about the frequency and consistency of content creation, so we can keep all the data of the video metadata."
   ]
  },
  {
   "cell_type": "code",
   "execution_count": 26,
   "id": "bd832a4b",
   "metadata": {},
   "outputs": [
    {
     "data": {
      "text/plain": [
       "(72924794, 8)"
      ]
     },
     "execution_count": 26,
     "metadata": {},
     "output_type": "execute_result"
    }
   ],
   "source": [
    "video_data.shape"
   ]
  },
  {
   "cell_type": "code",
   "execution_count": 32,
   "id": "54d48c2c",
   "metadata": {},
   "outputs": [],
   "source": [
    "# Add year and month columns of upload date of the video data to facilitate time-based analysis\n",
    "video_data['year'] = video_data['upload_date'].dt.year\n",
    "video_data['month'] = video_data['upload_date'].dt.to_period('M')"
   ]
  },
  {
   "cell_type": "code",
   "execution_count": 35,
   "id": "2be2f555",
   "metadata": {},
   "outputs": [],
   "source": [
    "# Merge with channel metadata if needed\n",
    "channel_video_data = video_data.merge(\n",
    "    channel_data,\n",
    "    left_on='channel_id', # Column name in video data\n",
    "    right_on='channel',   # Column name in channel data\n",
    "    how='inner'\n",
    ")"
   ]
  },
  {
   "cell_type": "code",
   "execution_count": 40,
   "id": "df7c442b",
   "metadata": {},
   "outputs": [],
   "source": [
    "channel_video_data = channel_video_data.drop(columns='channel')"
   ]
  },
  {
   "cell_type": "code",
   "execution_count": 41,
   "id": "8bb7cc24",
   "metadata": {},
   "outputs": [],
   "source": [
    "channel_video_data = channel_video_data.rename(\n",
    "    columns={\n",
    "        'categories': 'video_category',\n",
    "        'category_cc': 'channel_category'\n",
    "    }\n",
    ")"
   ]
  },
  {
   "cell_type": "code",
   "execution_count": 42,
   "id": "6c8eb79f",
   "metadata": {},
   "outputs": [
    {
     "data": {
      "text/plain": [
       "Index(['video_category', 'channel_id', 'dislike_count', 'display_id',\n",
       "       'duration', 'like_count', 'upload_date', 'view_count', 'year', 'month',\n",
       "       'channel_category', 'join_date', 'name_cc', 'subscribers_cc',\n",
       "       'videos_cc', 'subscriber_rank_sb', 'weights', 'lowest_monthly_earnings',\n",
       "       'highest_monthly_earnings', 'lowest_yearly_earnings',\n",
       "       'highest_yearly_earnings', 'has_affiliate', 'has_sponsorships',\n",
       "       'has_merchandise'],\n",
       "      dtype='object')"
      ]
     },
     "execution_count": 42,
     "metadata": {},
     "output_type": "execute_result"
    }
   ],
   "source": [
    "channel_video_data.columns"
   ]
  },
  {
   "cell_type": "code",
   "execution_count": 43,
   "id": "d63b2df9",
   "metadata": {},
   "outputs": [
    {
     "data": {
      "text/html": [
       "<div>\n",
       "<style scoped>\n",
       "    .dataframe tbody tr th:only-of-type {\n",
       "        vertical-align: middle;\n",
       "    }\n",
       "\n",
       "    .dataframe tbody tr th {\n",
       "        vertical-align: top;\n",
       "    }\n",
       "\n",
       "    .dataframe thead th {\n",
       "        text-align: right;\n",
       "    }\n",
       "</style>\n",
       "<table border=\"1\" class=\"dataframe\">\n",
       "  <thead>\n",
       "    <tr style=\"text-align: right;\">\n",
       "      <th></th>\n",
       "      <th>video_category</th>\n",
       "      <th>channel_id</th>\n",
       "      <th>dislike_count</th>\n",
       "      <th>display_id</th>\n",
       "      <th>duration</th>\n",
       "      <th>like_count</th>\n",
       "      <th>upload_date</th>\n",
       "      <th>view_count</th>\n",
       "      <th>year</th>\n",
       "      <th>month</th>\n",
       "      <th>...</th>\n",
       "      <th>videos_cc</th>\n",
       "      <th>subscriber_rank_sb</th>\n",
       "      <th>weights</th>\n",
       "      <th>lowest_monthly_earnings</th>\n",
       "      <th>highest_monthly_earnings</th>\n",
       "      <th>lowest_yearly_earnings</th>\n",
       "      <th>highest_yearly_earnings</th>\n",
       "      <th>has_affiliate</th>\n",
       "      <th>has_sponsorships</th>\n",
       "      <th>has_merchandise</th>\n",
       "    </tr>\n",
       "  </thead>\n",
       "  <tbody>\n",
       "    <tr>\n",
       "      <th>0</th>\n",
       "      <td>Film &amp; Animation</td>\n",
       "      <td>UCzWrhkg9eK5I8Bm3HfV-unA</td>\n",
       "      <td>1.0</td>\n",
       "      <td>SBqSc91Hn9g</td>\n",
       "      <td>1159</td>\n",
       "      <td>8.0</td>\n",
       "      <td>2016-09-28</td>\n",
       "      <td>1057.0</td>\n",
       "      <td>2016</td>\n",
       "      <td>2016-09</td>\n",
       "      <td>...</td>\n",
       "      <td>2398</td>\n",
       "      <td>54617.0</td>\n",
       "      <td>3.5155</td>\n",
       "      <td>NaN</td>\n",
       "      <td>NaN</td>\n",
       "      <td>NaN</td>\n",
       "      <td>NaN</td>\n",
       "      <td>False</td>\n",
       "      <td>False</td>\n",
       "      <td>False</td>\n",
       "    </tr>\n",
       "    <tr>\n",
       "      <th>1</th>\n",
       "      <td>Film &amp; Animation</td>\n",
       "      <td>UCzWrhkg9eK5I8Bm3HfV-unA</td>\n",
       "      <td>1.0</td>\n",
       "      <td>UuugEl86ESY</td>\n",
       "      <td>2681</td>\n",
       "      <td>23.0</td>\n",
       "      <td>2016-09-28</td>\n",
       "      <td>12894.0</td>\n",
       "      <td>2016</td>\n",
       "      <td>2016-09</td>\n",
       "      <td>...</td>\n",
       "      <td>2398</td>\n",
       "      <td>54617.0</td>\n",
       "      <td>3.5155</td>\n",
       "      <td>NaN</td>\n",
       "      <td>NaN</td>\n",
       "      <td>NaN</td>\n",
       "      <td>NaN</td>\n",
       "      <td>False</td>\n",
       "      <td>False</td>\n",
       "      <td>False</td>\n",
       "    </tr>\n",
       "    <tr>\n",
       "      <th>2</th>\n",
       "      <td>Film &amp; Animation</td>\n",
       "      <td>UCzWrhkg9eK5I8Bm3HfV-unA</td>\n",
       "      <td>779.0</td>\n",
       "      <td>oB4c-yvnbjs</td>\n",
       "      <td>1394</td>\n",
       "      <td>1607.0</td>\n",
       "      <td>2016-09-28</td>\n",
       "      <td>1800602.0</td>\n",
       "      <td>2016</td>\n",
       "      <td>2016-09</td>\n",
       "      <td>...</td>\n",
       "      <td>2398</td>\n",
       "      <td>54617.0</td>\n",
       "      <td>3.5155</td>\n",
       "      <td>NaN</td>\n",
       "      <td>NaN</td>\n",
       "      <td>NaN</td>\n",
       "      <td>NaN</td>\n",
       "      <td>False</td>\n",
       "      <td>False</td>\n",
       "      <td>False</td>\n",
       "    </tr>\n",
       "    <tr>\n",
       "      <th>3</th>\n",
       "      <td>Film &amp; Animation</td>\n",
       "      <td>UCzWrhkg9eK5I8Bm3HfV-unA</td>\n",
       "      <td>24.0</td>\n",
       "      <td>ZaV-gTCMV8E</td>\n",
       "      <td>5064</td>\n",
       "      <td>227.0</td>\n",
       "      <td>2016-09-28</td>\n",
       "      <td>57640.0</td>\n",
       "      <td>2016</td>\n",
       "      <td>2016-09</td>\n",
       "      <td>...</td>\n",
       "      <td>2398</td>\n",
       "      <td>54617.0</td>\n",
       "      <td>3.5155</td>\n",
       "      <td>NaN</td>\n",
       "      <td>NaN</td>\n",
       "      <td>NaN</td>\n",
       "      <td>NaN</td>\n",
       "      <td>False</td>\n",
       "      <td>False</td>\n",
       "      <td>False</td>\n",
       "    </tr>\n",
       "    <tr>\n",
       "      <th>4</th>\n",
       "      <td>Film &amp; Animation</td>\n",
       "      <td>UCzWrhkg9eK5I8Bm3HfV-unA</td>\n",
       "      <td>13.0</td>\n",
       "      <td>cGvL7AvMfM0</td>\n",
       "      <td>3554</td>\n",
       "      <td>105.0</td>\n",
       "      <td>2016-09-28</td>\n",
       "      <td>86368.0</td>\n",
       "      <td>2016</td>\n",
       "      <td>2016-09</td>\n",
       "      <td>...</td>\n",
       "      <td>2398</td>\n",
       "      <td>54617.0</td>\n",
       "      <td>3.5155</td>\n",
       "      <td>NaN</td>\n",
       "      <td>NaN</td>\n",
       "      <td>NaN</td>\n",
       "      <td>NaN</td>\n",
       "      <td>False</td>\n",
       "      <td>False</td>\n",
       "      <td>False</td>\n",
       "    </tr>\n",
       "  </tbody>\n",
       "</table>\n",
       "<p>5 rows × 24 columns</p>\n",
       "</div>"
      ],
      "text/plain": [
       "     video_category                channel_id  dislike_count   display_id  \\\n",
       "0  Film & Animation  UCzWrhkg9eK5I8Bm3HfV-unA            1.0  SBqSc91Hn9g   \n",
       "1  Film & Animation  UCzWrhkg9eK5I8Bm3HfV-unA            1.0  UuugEl86ESY   \n",
       "2  Film & Animation  UCzWrhkg9eK5I8Bm3HfV-unA          779.0  oB4c-yvnbjs   \n",
       "3  Film & Animation  UCzWrhkg9eK5I8Bm3HfV-unA           24.0  ZaV-gTCMV8E   \n",
       "4  Film & Animation  UCzWrhkg9eK5I8Bm3HfV-unA           13.0  cGvL7AvMfM0   \n",
       "\n",
       "   duration  like_count upload_date  view_count  year    month  ... videos_cc  \\\n",
       "0      1159         8.0  2016-09-28      1057.0  2016  2016-09  ...      2398   \n",
       "1      2681        23.0  2016-09-28     12894.0  2016  2016-09  ...      2398   \n",
       "2      1394      1607.0  2016-09-28   1800602.0  2016  2016-09  ...      2398   \n",
       "3      5064       227.0  2016-09-28     57640.0  2016  2016-09  ...      2398   \n",
       "4      3554       105.0  2016-09-28     86368.0  2016  2016-09  ...      2398   \n",
       "\n",
       "  subscriber_rank_sb weights  lowest_monthly_earnings  \\\n",
       "0            54617.0  3.5155                      NaN   \n",
       "1            54617.0  3.5155                      NaN   \n",
       "2            54617.0  3.5155                      NaN   \n",
       "3            54617.0  3.5155                      NaN   \n",
       "4            54617.0  3.5155                      NaN   \n",
       "\n",
       "   highest_monthly_earnings  lowest_yearly_earnings  highest_yearly_earnings  \\\n",
       "0                       NaN                     NaN                      NaN   \n",
       "1                       NaN                     NaN                      NaN   \n",
       "2                       NaN                     NaN                      NaN   \n",
       "3                       NaN                     NaN                      NaN   \n",
       "4                       NaN                     NaN                      NaN   \n",
       "\n",
       "   has_affiliate  has_sponsorships  has_merchandise  \n",
       "0          False             False            False  \n",
       "1          False             False            False  \n",
       "2          False             False            False  \n",
       "3          False             False            False  \n",
       "4          False             False            False  \n",
       "\n",
       "[5 rows x 24 columns]"
      ]
     },
     "execution_count": 43,
     "metadata": {},
     "output_type": "execute_result"
    }
   ],
   "source": [
    "channel_video_data.head(5)"
   ]
  },
  {
   "cell_type": "code",
   "execution_count": 44,
   "id": "bacd7959",
   "metadata": {},
   "outputs": [
    {
     "data": {
      "text/plain": [
       "(72882785, 24)"
      ]
     },
     "execution_count": 44,
     "metadata": {},
     "output_type": "execute_result"
    }
   ],
   "source": [
    "channel_video_data.shape"
   ]
  },
  {
   "cell_type": "code",
   "execution_count": 48,
   "id": "942974c3",
   "metadata": {},
   "outputs": [
    {
     "name": "stdout",
     "output_type": "stream",
     "text": [
      "Number of samples with mismatched categories: 13341605\n",
      "Percentage of samples with mismatched categories: 18.31%\n"
     ]
    }
   ],
   "source": [
    "# Identify rows where channel_category is different from video_category\n",
    "mismatched_categories = channel_video_data[channel_video_data['channel_category'] != channel_video_data['video_category']]\n",
    "\n",
    "# Count the mismatched samples\n",
    "num_mismatched = mismatched_categories.shape[0]\n",
    "\n",
    "print(f\"Number of samples with mismatched categories: {num_mismatched}\")\n",
    "\n",
    "# Percentage of mismatched samples\n",
    "percentage_mismatched = (num_mismatched / channel_video_data.shape[0]) * 100\n",
    "\n",
    "print(f\"Percentage of samples with mismatched categories: {percentage_mismatched:.2f}%\")"
   ]
  },
  {
   "cell_type": "markdown",
   "id": "4e33ad43",
   "metadata": {},
   "source": [
    "Since some channels assigned as a certain category create videos of another category (18.31%) as the one they are assigned, it might be good to make a frequency and consistency analysis with respect to the channels and another analysis with respect to the video categories."
   ]
  },
  {
   "cell_type": "markdown",
   "id": "924d5f20",
   "metadata": {},
   "source": [
    "## Step 1: Channel Analysis"
   ]
  },
  {
   "cell_type": "markdown",
   "id": "8ac8dfba",
   "metadata": {},
   "source": [
    "### Frequency Analysis"
   ]
  },
  {
   "cell_type": "code",
   "execution_count": null,
   "id": "76f7817b",
   "metadata": {},
   "outputs": [],
   "source": [
    "# Calculate the number of uploads per category per year\n",
    "freq_per_year = video_data.groupby(['category', 'year']).size().reset_index(name='video_count')"
   ]
  },
  {
   "cell_type": "code",
   "execution_count": null,
   "id": "f7a9b711",
   "metadata": {},
   "outputs": [],
   "source": []
  },
  {
   "cell_type": "markdown",
   "id": "b45473c2",
   "metadata": {},
   "source": [
    "## Step 2: Consistency Analysis"
   ]
  },
  {
   "cell_type": "code",
   "execution_count": null,
   "id": "80d0f771",
   "metadata": {},
   "outputs": [],
   "source": [
    "# Calculate time intervals between uploads for each channel\n",
    "video_data = video_data.sort_values(by=['channel_id', 'upload_date'])\n",
    "video_data['upload_interval'] = video_data.groupby('channel_id')['upload_date'].diff().dt.days\n",
    "\n",
    "# Consistency metric: Variance in upload intervals\n",
    "consistency = video_data.groupby(['category', 'year']).agg({\n",
    "    'upload_interval': ['mean', 'std']\n",
    "}).reset_index()\n",
    "consistency.columns = ['category', 'year', 'mean_interval', 'std_interval']"
   ]
  },
  {
   "cell_type": "markdown",
   "id": "f5d044a2",
   "metadata": {},
   "source": [
    "## Step 3: Timeseries Analysis"
   ]
  },
  {
   "cell_type": "code",
   "execution_count": null,
   "id": "77fe60bc",
   "metadata": {},
   "outputs": [],
   "source": [
    "# Frequency over time\n",
    "plt.figure(figsize=(12, 6))\n",
    "for category in freq_per_year['category'].unique():\n",
    "    subset = freq_per_year[freq_per_year['category'] == category]\n",
    "    plt.plot(subset['year'], subset['video_count'], label=category)\n",
    "\n",
    "plt.title(\"Video Upload Frequency by Category Over Time\")\n",
    "plt.xlabel(\"Year\")\n",
    "plt.ylabel(\"Number of Videos\")\n",
    "plt.legend()\n",
    "plt.show()"
   ]
  },
  {
   "cell_type": "code",
   "execution_count": null,
   "id": "48a3e4c8",
   "metadata": {},
   "outputs": [],
   "source": [
    "# Consistency over time (Standard deviation in upload intervals)\n",
    "plt.figure(figsize=(12, 6))\n",
    "for category in consistency['category'].unique():\n",
    "    subset = consistency[consistency['category'] == category]\n",
    "    plt.plot(subset['year'], subset['std_interval'], label=category)\n",
    "\n",
    "plt.title(\"Consistency of Content Creation by Category Over Time\")\n",
    "plt.xlabel(\"Year\")\n",
    "plt.ylabel(\"Standard Deviation of Upload Intervals (Days)\")\n",
    "plt.legend()\n",
    "plt.show()"
   ]
  },
  {
   "cell_type": "markdown",
   "id": "59c42c30",
   "metadata": {},
   "source": [
    "## Step 4: Comparing the three Analysis\n",
    "\n",
    "Add any comparative metrics or additional aggregations as needed."
   ]
  },
  {
   "cell_type": "markdown",
   "id": "1fdecde9",
   "metadata": {},
   "source": [
    "## Step 5: Some ML Algorithms"
   ]
  }
 ],
 "metadata": {
  "kernelspec": {
   "display_name": "base",
   "language": "python",
   "name": "python3"
  },
  "language_info": {
   "codemirror_mode": {
    "name": "ipython",
    "version": 3
   },
   "file_extension": ".py",
   "mimetype": "text/x-python",
   "name": "python",
   "nbconvert_exporter": "python",
   "pygments_lexer": "ipython3",
   "version": "3.11.9"
  }
 },
 "nbformat": 4,
 "nbformat_minor": 5
}
