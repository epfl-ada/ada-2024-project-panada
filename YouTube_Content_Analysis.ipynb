{
 "cells": [
  {
   "cell_type": "markdown",
   "id": "83388284",
   "metadata": {},
   "source": [
    "# Analysis of YouTube Content Creation Evolution\n",
    "\n",
    "This notebook explores the frequency and consistency of content creation across different YouTube channel categories over time, using the YouNiverse dataset."
   ]
  },
  {
   "cell_type": "code",
   "execution_count": null,
   "id": "4473391b",
   "metadata": {},
   "outputs": [],
   "source": [
    "import pandas as pd\n",
    "import numpy as np\n",
    "import matplotlib.pyplot as plt\n",
    "\n",
    "# Load the datasets\n",
    "channel_data = pd.read_csv(\"data/df_channels_en.tsv.gz\", compression='infer', sep='\\t')\n",
    "video_data = pd.read_feather(\"data/yt_metadata_helper.feather\")"
   ]
  },
  {
   "cell_type": "code",
   "execution_count": 5,
   "id": "347b98d3",
   "metadata": {},
   "outputs": [
    {
     "data": {
      "text/html": [
       "<div>\n",
       "<style scoped>\n",
       "    .dataframe tbody tr th:only-of-type {\n",
       "        vertical-align: middle;\n",
       "    }\n",
       "\n",
       "    .dataframe tbody tr th {\n",
       "        vertical-align: top;\n",
       "    }\n",
       "\n",
       "    .dataframe thead th {\n",
       "        text-align: right;\n",
       "    }\n",
       "</style>\n",
       "<table border=\"1\" class=\"dataframe\">\n",
       "  <thead>\n",
       "    <tr style=\"text-align: right;\">\n",
       "      <th></th>\n",
       "      <th>category_cc</th>\n",
       "      <th>join_date</th>\n",
       "      <th>channel</th>\n",
       "      <th>name_cc</th>\n",
       "      <th>subscribers_cc</th>\n",
       "      <th>videos_cc</th>\n",
       "      <th>subscriber_rank_sb</th>\n",
       "      <th>weights</th>\n",
       "    </tr>\n",
       "  </thead>\n",
       "  <tbody>\n",
       "    <tr>\n",
       "      <th>0</th>\n",
       "      <td>Gaming</td>\n",
       "      <td>2010-04-29</td>\n",
       "      <td>UC-lHJZR3Gqxm24_Vd_AJ5Yw</td>\n",
       "      <td>PewDiePie</td>\n",
       "      <td>101000000</td>\n",
       "      <td>3956</td>\n",
       "      <td>3.0</td>\n",
       "      <td>2.087</td>\n",
       "    </tr>\n",
       "    <tr>\n",
       "      <th>1</th>\n",
       "      <td>Education</td>\n",
       "      <td>2006-09-01</td>\n",
       "      <td>UCbCmjCuTUZos6Inko4u57UQ</td>\n",
       "      <td>Cocomelon - Nursery ...</td>\n",
       "      <td>60100000</td>\n",
       "      <td>458</td>\n",
       "      <td>7.0</td>\n",
       "      <td>2.087</td>\n",
       "    </tr>\n",
       "    <tr>\n",
       "      <th>2</th>\n",
       "      <td>Entertainment</td>\n",
       "      <td>2006-09-20</td>\n",
       "      <td>UCpEhnqL0y41EpW2TvWAHD7Q</td>\n",
       "      <td>SET India</td>\n",
       "      <td>56018869</td>\n",
       "      <td>32661</td>\n",
       "      <td>8.0</td>\n",
       "      <td>2.087</td>\n",
       "    </tr>\n",
       "    <tr>\n",
       "      <th>3</th>\n",
       "      <td>Howto &amp; Style</td>\n",
       "      <td>2016-11-15</td>\n",
       "      <td>UC295-Dw_tDNtZXFeAPAW6Aw</td>\n",
       "      <td>5-Minute Crafts</td>\n",
       "      <td>60600000</td>\n",
       "      <td>3591</td>\n",
       "      <td>9.0</td>\n",
       "      <td>2.087</td>\n",
       "    </tr>\n",
       "    <tr>\n",
       "      <th>4</th>\n",
       "      <td>Sports</td>\n",
       "      <td>2007-05-11</td>\n",
       "      <td>UCJ5v_MCY6GNUBTO8-D3XoAg</td>\n",
       "      <td>WWE</td>\n",
       "      <td>48400000</td>\n",
       "      <td>43421</td>\n",
       "      <td>11.0</td>\n",
       "      <td>2.087</td>\n",
       "    </tr>\n",
       "    <tr>\n",
       "      <th>5</th>\n",
       "      <td>Entertainment</td>\n",
       "      <td>2007-01-15</td>\n",
       "      <td>UCIwFjwMjI0y7PDBVEO9-bkQ</td>\n",
       "      <td>Justin Bieber</td>\n",
       "      <td>46574085</td>\n",
       "      <td>134</td>\n",
       "      <td>12.0</td>\n",
       "      <td>2.087</td>\n",
       "    </tr>\n",
       "    <tr>\n",
       "      <th>6</th>\n",
       "      <td>Music</td>\n",
       "      <td>2014-03-12</td>\n",
       "      <td>UCFFbwnve3yF62-tVXkTyHqg</td>\n",
       "      <td>Zee Music Company</td>\n",
       "      <td>43451109</td>\n",
       "      <td>4241</td>\n",
       "      <td>13.0</td>\n",
       "      <td>2.087</td>\n",
       "    </tr>\n",
       "    <tr>\n",
       "      <th>7</th>\n",
       "      <td>Sports</td>\n",
       "      <td>2009-03-17</td>\n",
       "      <td>UCRijo3ddMTht_IHyNSNXpNQ</td>\n",
       "      <td>Dude Perfect</td>\n",
       "      <td>45800000</td>\n",
       "      <td>213</td>\n",
       "      <td>14.0</td>\n",
       "      <td>2.087</td>\n",
       "    </tr>\n",
       "    <tr>\n",
       "      <th>8</th>\n",
       "      <td>Entertainment</td>\n",
       "      <td>2015-05-12</td>\n",
       "      <td>UCk8GzjMOrta8yxDcKfylJYw</td>\n",
       "      <td>✿ Kids Diana Show</td>\n",
       "      <td>34700000</td>\n",
       "      <td>599</td>\n",
       "      <td>16.0</td>\n",
       "      <td>2.087</td>\n",
       "    </tr>\n",
       "    <tr>\n",
       "      <th>9</th>\n",
       "      <td>Music</td>\n",
       "      <td>2006-08-08</td>\n",
       "      <td>UC0C-w0YjGpqDXGB8IHb662A</td>\n",
       "      <td>Ed Sheeran</td>\n",
       "      <td>42000000</td>\n",
       "      <td>154</td>\n",
       "      <td>17.0</td>\n",
       "      <td>2.087</td>\n",
       "    </tr>\n",
       "  </tbody>\n",
       "</table>\n",
       "</div>"
      ],
      "text/plain": [
       "     category_cc   join_date                   channel  \\\n",
       "0         Gaming  2010-04-29  UC-lHJZR3Gqxm24_Vd_AJ5Yw   \n",
       "1      Education  2006-09-01  UCbCmjCuTUZos6Inko4u57UQ   \n",
       "2  Entertainment  2006-09-20  UCpEhnqL0y41EpW2TvWAHD7Q   \n",
       "3  Howto & Style  2016-11-15  UC295-Dw_tDNtZXFeAPAW6Aw   \n",
       "4         Sports  2007-05-11  UCJ5v_MCY6GNUBTO8-D3XoAg   \n",
       "5  Entertainment  2007-01-15  UCIwFjwMjI0y7PDBVEO9-bkQ   \n",
       "6          Music  2014-03-12  UCFFbwnve3yF62-tVXkTyHqg   \n",
       "7         Sports  2009-03-17  UCRijo3ddMTht_IHyNSNXpNQ   \n",
       "8  Entertainment  2015-05-12  UCk8GzjMOrta8yxDcKfylJYw   \n",
       "9          Music  2006-08-08  UC0C-w0YjGpqDXGB8IHb662A   \n",
       "\n",
       "                   name_cc  subscribers_cc  videos_cc  subscriber_rank_sb  \\\n",
       "0                PewDiePie       101000000       3956                 3.0   \n",
       "1  Cocomelon - Nursery ...        60100000        458                 7.0   \n",
       "2                SET India        56018869      32661                 8.0   \n",
       "3          5-Minute Crafts        60600000       3591                 9.0   \n",
       "4                      WWE        48400000      43421                11.0   \n",
       "5            Justin Bieber        46574085        134                12.0   \n",
       "6        Zee Music Company        43451109       4241                13.0   \n",
       "7             Dude Perfect        45800000        213                14.0   \n",
       "8        ✿ Kids Diana Show        34700000        599                16.0   \n",
       "9               Ed Sheeran        42000000        154                17.0   \n",
       "\n",
       "   weights  \n",
       "0    2.087  \n",
       "1    2.087  \n",
       "2    2.087  \n",
       "3    2.087  \n",
       "4    2.087  \n",
       "5    2.087  \n",
       "6    2.087  \n",
       "7    2.087  \n",
       "8    2.087  \n",
       "9    2.087  "
      ]
     },
     "execution_count": 5,
     "metadata": {},
     "output_type": "execute_result"
    }
   ],
   "source": [
    "channel_data.head(10)"
   ]
  },
  {
   "cell_type": "code",
   "execution_count": 6,
   "id": "d16c4695",
   "metadata": {},
   "outputs": [
    {
     "data": {
      "text/html": [
       "<div>\n",
       "<style scoped>\n",
       "    .dataframe tbody tr th:only-of-type {\n",
       "        vertical-align: middle;\n",
       "    }\n",
       "\n",
       "    .dataframe tbody tr th {\n",
       "        vertical-align: top;\n",
       "    }\n",
       "\n",
       "    .dataframe thead th {\n",
       "        text-align: right;\n",
       "    }\n",
       "</style>\n",
       "<table border=\"1\" class=\"dataframe\">\n",
       "  <thead>\n",
       "    <tr style=\"text-align: right;\">\n",
       "      <th></th>\n",
       "      <th>categories</th>\n",
       "      <th>channel_id</th>\n",
       "      <th>dislike_count</th>\n",
       "      <th>display_id</th>\n",
       "      <th>duration</th>\n",
       "      <th>like_count</th>\n",
       "      <th>upload_date</th>\n",
       "      <th>view_count</th>\n",
       "    </tr>\n",
       "  </thead>\n",
       "  <tbody>\n",
       "    <tr>\n",
       "      <th>0</th>\n",
       "      <td>Film &amp; Animation</td>\n",
       "      <td>UCzWrhkg9eK5I8Bm3HfV-unA</td>\n",
       "      <td>1.0</td>\n",
       "      <td>SBqSc91Hn9g</td>\n",
       "      <td>1159</td>\n",
       "      <td>8.0</td>\n",
       "      <td>2016-09-28</td>\n",
       "      <td>1057.0</td>\n",
       "    </tr>\n",
       "    <tr>\n",
       "      <th>1</th>\n",
       "      <td>Film &amp; Animation</td>\n",
       "      <td>UCzWrhkg9eK5I8Bm3HfV-unA</td>\n",
       "      <td>1.0</td>\n",
       "      <td>UuugEl86ESY</td>\n",
       "      <td>2681</td>\n",
       "      <td>23.0</td>\n",
       "      <td>2016-09-28</td>\n",
       "      <td>12894.0</td>\n",
       "    </tr>\n",
       "    <tr>\n",
       "      <th>2</th>\n",
       "      <td>Film &amp; Animation</td>\n",
       "      <td>UCzWrhkg9eK5I8Bm3HfV-unA</td>\n",
       "      <td>779.0</td>\n",
       "      <td>oB4c-yvnbjs</td>\n",
       "      <td>1394</td>\n",
       "      <td>1607.0</td>\n",
       "      <td>2016-09-28</td>\n",
       "      <td>1800602.0</td>\n",
       "    </tr>\n",
       "    <tr>\n",
       "      <th>3</th>\n",
       "      <td>Film &amp; Animation</td>\n",
       "      <td>UCzWrhkg9eK5I8Bm3HfV-unA</td>\n",
       "      <td>24.0</td>\n",
       "      <td>ZaV-gTCMV8E</td>\n",
       "      <td>5064</td>\n",
       "      <td>227.0</td>\n",
       "      <td>2016-09-28</td>\n",
       "      <td>57640.0</td>\n",
       "    </tr>\n",
       "    <tr>\n",
       "      <th>4</th>\n",
       "      <td>Film &amp; Animation</td>\n",
       "      <td>UCzWrhkg9eK5I8Bm3HfV-unA</td>\n",
       "      <td>13.0</td>\n",
       "      <td>cGvL7AvMfM0</td>\n",
       "      <td>3554</td>\n",
       "      <td>105.0</td>\n",
       "      <td>2016-09-28</td>\n",
       "      <td>86368.0</td>\n",
       "    </tr>\n",
       "    <tr>\n",
       "      <th>5</th>\n",
       "      <td>Film &amp; Animation</td>\n",
       "      <td>UCzWrhkg9eK5I8Bm3HfV-unA</td>\n",
       "      <td>1.0</td>\n",
       "      <td>iVADSRjaLtQ</td>\n",
       "      <td>1066</td>\n",
       "      <td>11.0</td>\n",
       "      <td>2016-09-27</td>\n",
       "      <td>3426.0</td>\n",
       "    </tr>\n",
       "    <tr>\n",
       "      <th>6</th>\n",
       "      <td>Film &amp; Animation</td>\n",
       "      <td>UCzWrhkg9eK5I8Bm3HfV-unA</td>\n",
       "      <td>2.0</td>\n",
       "      <td>ypVcK9mldPc</td>\n",
       "      <td>2450</td>\n",
       "      <td>11.0</td>\n",
       "      <td>2016-09-27</td>\n",
       "      <td>7652.0</td>\n",
       "    </tr>\n",
       "    <tr>\n",
       "      <th>7</th>\n",
       "      <td>Film &amp; Animation</td>\n",
       "      <td>UCzWrhkg9eK5I8Bm3HfV-unA</td>\n",
       "      <td>0.0</td>\n",
       "      <td>qA1NayP9cNY</td>\n",
       "      <td>1539</td>\n",
       "      <td>9.0</td>\n",
       "      <td>2016-09-27</td>\n",
       "      <td>479.0</td>\n",
       "    </tr>\n",
       "    <tr>\n",
       "      <th>8</th>\n",
       "      <td>Film &amp; Animation</td>\n",
       "      <td>UCzWrhkg9eK5I8Bm3HfV-unA</td>\n",
       "      <td>1.0</td>\n",
       "      <td>CWdSl9ta4Rg</td>\n",
       "      <td>2123</td>\n",
       "      <td>10.0</td>\n",
       "      <td>2016-09-27</td>\n",
       "      <td>3856.0</td>\n",
       "    </tr>\n",
       "    <tr>\n",
       "      <th>9</th>\n",
       "      <td>Film &amp; Animation</td>\n",
       "      <td>UCzWrhkg9eK5I8Bm3HfV-unA</td>\n",
       "      <td>0.0</td>\n",
       "      <td>64dCTkxCHpY</td>\n",
       "      <td>1130</td>\n",
       "      <td>7.0</td>\n",
       "      <td>2016-09-27</td>\n",
       "      <td>1730.0</td>\n",
       "    </tr>\n",
       "  </tbody>\n",
       "</table>\n",
       "</div>"
      ],
      "text/plain": [
       "         categories                channel_id  dislike_count   display_id  \\\n",
       "0  Film & Animation  UCzWrhkg9eK5I8Bm3HfV-unA            1.0  SBqSc91Hn9g   \n",
       "1  Film & Animation  UCzWrhkg9eK5I8Bm3HfV-unA            1.0  UuugEl86ESY   \n",
       "2  Film & Animation  UCzWrhkg9eK5I8Bm3HfV-unA          779.0  oB4c-yvnbjs   \n",
       "3  Film & Animation  UCzWrhkg9eK5I8Bm3HfV-unA           24.0  ZaV-gTCMV8E   \n",
       "4  Film & Animation  UCzWrhkg9eK5I8Bm3HfV-unA           13.0  cGvL7AvMfM0   \n",
       "5  Film & Animation  UCzWrhkg9eK5I8Bm3HfV-unA            1.0  iVADSRjaLtQ   \n",
       "6  Film & Animation  UCzWrhkg9eK5I8Bm3HfV-unA            2.0  ypVcK9mldPc   \n",
       "7  Film & Animation  UCzWrhkg9eK5I8Bm3HfV-unA            0.0  qA1NayP9cNY   \n",
       "8  Film & Animation  UCzWrhkg9eK5I8Bm3HfV-unA            1.0  CWdSl9ta4Rg   \n",
       "9  Film & Animation  UCzWrhkg9eK5I8Bm3HfV-unA            0.0  64dCTkxCHpY   \n",
       "\n",
       "   duration  like_count upload_date  view_count  \n",
       "0      1159         8.0  2016-09-28      1057.0  \n",
       "1      2681        23.0  2016-09-28     12894.0  \n",
       "2      1394      1607.0  2016-09-28   1800602.0  \n",
       "3      5064       227.0  2016-09-28     57640.0  \n",
       "4      3554       105.0  2016-09-28     86368.0  \n",
       "5      1066        11.0  2016-09-27      3426.0  \n",
       "6      2450        11.0  2016-09-27      7652.0  \n",
       "7      1539         9.0  2016-09-27       479.0  \n",
       "8      2123        10.0  2016-09-27      3856.0  \n",
       "9      1130         7.0  2016-09-27      1730.0  "
      ]
     },
     "execution_count": 6,
     "metadata": {},
     "output_type": "execute_result"
    }
   ],
   "source": [
    "video_data.head(10)"
   ]
  },
  {
   "cell_type": "code",
   "execution_count": 11,
   "id": "fa02a57c",
   "metadata": {},
   "outputs": [],
   "source": [
    "channel_data['join_date'] = pd.to_datetime(channel_data['join_date'])\n",
    "video_data['upload_date'] = pd.to_datetime(video_data['upload_date'])"
   ]
  },
  {
   "cell_type": "code",
   "execution_count": 12,
   "id": "e8bd4f21",
   "metadata": {},
   "outputs": [
    {
     "data": {
      "text/plain": [
       "category_cc           128\n",
       "join_date               1\n",
       "channel                 0\n",
       "name_cc                10\n",
       "subscribers_cc          0\n",
       "videos_cc               0\n",
       "subscriber_rank_sb      0\n",
       "weights                 0\n",
       "dtype: int64"
      ]
     },
     "execution_count": 12,
     "metadata": {},
     "output_type": "execute_result"
    }
   ],
   "source": [
    "channel_data.isna().sum()"
   ]
  },
  {
   "cell_type": "code",
   "execution_count": 13,
   "id": "561b891d",
   "metadata": {},
   "outputs": [
    {
     "data": {
      "text/plain": [
       "(136470, 8)"
      ]
     },
     "execution_count": 13,
     "metadata": {},
     "output_type": "execute_result"
    }
   ],
   "source": [
    "channel_data.shape"
   ]
  },
  {
   "cell_type": "code",
   "execution_count": 14,
   "id": "6995144d",
   "metadata": {},
   "outputs": [
    {
     "data": {
      "text/plain": [
       "categories             0\n",
       "channel_id             0\n",
       "dislike_count    1631458\n",
       "display_id             0\n",
       "duration               0\n",
       "like_count       1631458\n",
       "upload_date            0\n",
       "view_count           654\n",
       "dtype: int64"
      ]
     },
     "execution_count": 14,
     "metadata": {},
     "output_type": "execute_result"
    }
   ],
   "source": [
    "video_data.isna().sum()"
   ]
  },
  {
   "cell_type": "code",
   "execution_count": 10,
   "id": "bd832a4b",
   "metadata": {},
   "outputs": [
    {
     "data": {
      "text/plain": [
       "(72924794, 8)"
      ]
     },
     "execution_count": 10,
     "metadata": {},
     "output_type": "execute_result"
    }
   ],
   "source": [
    "video_data.shape"
   ]
  },
  {
   "cell_type": "markdown",
   "id": "26ae272c",
   "metadata": {},
   "source": [
    "## Step 1: Preprocess and Merge Data"
   ]
  },
  {
   "cell_type": "code",
   "execution_count": null,
   "id": "54d48c2c",
   "metadata": {},
   "outputs": [],
   "source": [
    "# Ensure relevant fields are present\n",
    "video_data['upload_date'] = pd.to_datetime(video_data['upload_date'])  # Convert upload date\n",
    "video_data['year'] = video_data['upload_date'].dt.year\n",
    "video_data['month'] = video_data['upload_date'].dt.to_period('M')  # Monthly period\n",
    "video_data['category'] = video_data['category'].fillna('Unknown')  # Handle missing categories\n",
    "\n",
    "# Merge with channel metadata if needed\n",
    "video_data = video_data.merge(channel_data[['channel_id', 'category']], on='channel_id', how='left')"
   ]
  },
  {
   "cell_type": "markdown",
   "id": "924d5f20",
   "metadata": {},
   "source": [
    "## Step 2: Frequency Analysis"
   ]
  },
  {
   "cell_type": "code",
   "execution_count": null,
   "id": "76f7817b",
   "metadata": {},
   "outputs": [],
   "source": [
    "# Calculate the number of uploads per category per year\n",
    "freq_per_year = video_data.groupby(['category', 'year']).size().reset_index(name='video_count')"
   ]
  },
  {
   "cell_type": "code",
   "execution_count": null,
   "id": "f7a9b711",
   "metadata": {},
   "outputs": [],
   "source": []
  },
  {
   "cell_type": "markdown",
   "id": "b45473c2",
   "metadata": {},
   "source": [
    "## Step 3: Consistency Analysis"
   ]
  },
  {
   "cell_type": "code",
   "execution_count": null,
   "id": "80d0f771",
   "metadata": {},
   "outputs": [],
   "source": [
    "# Calculate time intervals between uploads for each channel\n",
    "video_data = video_data.sort_values(by=['channel_id', 'upload_date'])\n",
    "video_data['upload_interval'] = video_data.groupby('channel_id')['upload_date'].diff().dt.days\n",
    "\n",
    "# Consistency metric: Variance in upload intervals\n",
    "consistency = video_data.groupby(['category', 'year']).agg({\n",
    "    'upload_interval': ['mean', 'std']\n",
    "}).reset_index()\n",
    "consistency.columns = ['category', 'year', 'mean_interval', 'std_interval']"
   ]
  },
  {
   "cell_type": "markdown",
   "id": "f5d044a2",
   "metadata": {},
   "source": [
    "## Step 4: Visualization"
   ]
  },
  {
   "cell_type": "code",
   "execution_count": null,
   "id": "77fe60bc",
   "metadata": {},
   "outputs": [],
   "source": [
    "# Frequency over time\n",
    "plt.figure(figsize=(12, 6))\n",
    "for category in freq_per_year['category'].unique():\n",
    "    subset = freq_per_year[freq_per_year['category'] == category]\n",
    "    plt.plot(subset['year'], subset['video_count'], label=category)\n",
    "\n",
    "plt.title(\"Video Upload Frequency by Category Over Time\")\n",
    "plt.xlabel(\"Year\")\n",
    "plt.ylabel(\"Number of Videos\")\n",
    "plt.legend()\n",
    "plt.show()"
   ]
  },
  {
   "cell_type": "code",
   "execution_count": null,
   "id": "48a3e4c8",
   "metadata": {},
   "outputs": [],
   "source": [
    "# Consistency over time (Standard deviation in upload intervals)\n",
    "plt.figure(figsize=(12, 6))\n",
    "for category in consistency['category'].unique():\n",
    "    subset = consistency[consistency['category'] == category]\n",
    "    plt.plot(subset['year'], subset['std_interval'], label=category)\n",
    "\n",
    "plt.title(\"Consistency of Content Creation by Category Over Time\")\n",
    "plt.xlabel(\"Year\")\n",
    "plt.ylabel(\"Standard Deviation of Upload Intervals (Days)\")\n",
    "plt.legend()\n",
    "plt.show()"
   ]
  },
  {
   "cell_type": "markdown",
   "id": "59c42c30",
   "metadata": {},
   "source": [
    "## Step 5: Insights and Comparison\n",
    "\n",
    "Add any comparative metrics or additional aggregations as needed."
   ]
  }
 ],
 "metadata": {
  "kernelspec": {
   "display_name": "base",
   "language": "python",
   "name": "python3"
  },
  "language_info": {
   "codemirror_mode": {
    "name": "ipython",
    "version": 3
   },
   "file_extension": ".py",
   "mimetype": "text/x-python",
   "name": "python",
   "nbconvert_exporter": "python",
   "pygments_lexer": "ipython3",
   "version": "3.11.9"
  }
 },
 "nbformat": 4,
 "nbformat_minor": 5
}
